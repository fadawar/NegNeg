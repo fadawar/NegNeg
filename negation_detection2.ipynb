{
 "cells": [
  {
   "cell_type": "markdown",
   "metadata": {
    "deletable": true,
    "editable": true
   },
   "source": [
    "## Loading dataset"
   ]
  },
  {
   "cell_type": "code",
   "execution_count": 1,
   "metadata": {
    "collapsed": false,
    "deletable": true,
    "editable": true
   },
   "outputs": [
    {
     "name": "stdout",
     "output_type": "stream",
     "text": [
      "CPU times: user 436 ms, sys: 112 ms, total: 548 ms\nWall time: 808 ms\n"
     ]
    }
   ],
   "source": [
    "%%time\n",
    "import random\n",
    "import pandas as pd\n",
    "import xml.etree.ElementTree as ET\n",
    "\n",
    "NONE_REPR = '__None__'  # representation of none word - at the beginning and end of sentence\n",
    "\n",
    "token_list = []\n",
    "lemma_list = []\n",
    "pos_list = []\n",
    "is_negation_list = []\n",
    "\n",
    "\n",
    "def add_nan():\n",
    "    token_list.append(NONE_REPR)\n",
    "    token_list.append(NONE_REPR)\n",
    "    lemma_list.append(NONE_REPR)\n",
    "    lemma_list.append(NONE_REPR)\n",
    "    pos_list.append(NONE_REPR)\n",
    "    pos_list.append(NONE_REPR)\n",
    "    is_negation_list.append(0)\n",
    "    is_negation_list.append(0)\n",
    "\n",
    "\n",
    "root = ET.parse('korpus_scraper/dataset-merged.xml').getroot()\n",
    "sentences = root.getchildren()\n",
    "random.shuffle(sentences)\n",
    "\n",
    "for sentence in sentences:\n",
    "    add_nan()\n",
    "    \n",
    "    for token in sentence:\n",
    "        token_list.append(token.text)\n",
    "        lemma_list.append(token.attrib['lemma'])\n",
    "        pos_list.append(token.attrib['pos'])\n",
    "        is_negation_list.append(int('negator' in token.attrib))\n",
    "    \n",
    "    add_nan()\n",
    "\n",
    "df_start = pd.DataFrame.from_dict({\n",
    "    'token': token_list, \n",
    "    'lemma': lemma_list, \n",
    "    'POS': pos_list, \n",
    "    'is_negation': is_negation_list,\n",
    "})\n",
    "\n",
    "# Split dataset into train and test sets\n",
    "split = 0.75\n",
    "train = df_start[:int(split*len(df_start))]\n",
    "test = df_start[int(split*len(df_start)):]\n",
    "X_train = train[['token', 'lemma', 'POS', 'is_negation']]\n",
    "X_test = test[['token', 'lemma', 'POS', 'is_negation']]\n",
    "y_train = train.is_negation\n",
    "y_test = test.is_negation"
   ]
  },
  {
   "cell_type": "markdown",
   "metadata": {
    "deletable": true,
    "editable": true
   },
   "source": [
    "## Vectorizing"
   ]
  },
  {
   "cell_type": "code",
   "execution_count": 44,
   "metadata": {},
   "outputs": [],
   "source": [
    "# Prepare sets for features\n",
    "prefix_sk = {'ne', 'bez', 'pa', 'roz', 'proti', 'polo', 'tiež', 'akoby', 'trochu', 'truc', 'mimo', }\n",
    "prefix_int = {'pseudo', 'i', 'in', 'anti', 'kontra', 'a', 'an', 'ex', 'non', 'kvázi', 'hypo', 'de', 'dez', 'ex', \n",
    "              'extra', }\n",
    "particles = {'nie', 'figu', 'drevenú', 'figu', 'borovú', 'jalovú', 'figu', 'šušku', 'šušku', 'borovú', 'čerta', 'čerta', \n",
    "             'starého', 'čerta', 'rohatého', 'čerta', 'pekelného', 'čerta', 'ušatého', 'čerta', 'strapatého', 'paroma', \n",
    "             'paroma', 'starého', 'hroma', 'psiu', 'mater', 'horký', 'horkýtam', 'horkýže', 'horkýžetam', 'aleba', \n",
    "             'ale', 'čo', 'kde', 'kdeže', 'kdeby', 'kdežeby', 'kdežetam', 'kdežebytam', 'čo', 'čože', 'čoby', 'čožeby', \n",
    "             'ešte', 'čo', 'ešteže', 'čo', 'akurát', 'javeru', 'rozhodne', 'rovno', 'aký', 'akýže', 'akéže', }\n",
    "slovak_dict = set(line.strip() for line in open('sk.dic'))\n",
    "\n",
    "\n",
    "def start_with_prefix(word, prefixes):\n",
    "    for p in prefixes:\n",
    "        if word.startswith(p):\n",
    "            return True, p\n",
    "    return False, p\n",
    "\n",
    "\n",
    "def detect_prefixes_and_particles(lemma):\n",
    "    has_sk_prefix, p_sk = start_with_prefix(lemma, prefix_sk)\n",
    "    has_int_prefix, p_int = start_with_prefix(lemma, prefix_int)\n",
    "    is_particle = lemma in particles\n",
    "    if has_sk_prefix:\n",
    "        prefix = p_sk\n",
    "    elif has_int_prefix:\n",
    "        prefix = p_int\n",
    "    else:\n",
    "        prefix = None\n",
    "    start_with_ne = False\n",
    "    word_without_prefix_exist = False\n",
    "    if prefix:\n",
    "        word_without_prefix_exist = lemma[len(prefix):] in slovak_dict\n",
    "        if word_without_prefix_exist and prefix == 'ne':\n",
    "            start_with_ne = True\n",
    "    return has_sk_prefix, has_int_prefix, is_particle, word_without_prefix_exist, start_with_ne"
   ]
  },
  {
   "cell_type": "code",
   "execution_count": 45,
   "metadata": {
    "collapsed": false,
    "deletable": true,
    "editable": true
   },
   "outputs": [
    {
     "name": "stdout",
     "output_type": "stream",
     "text": [
      "CPU times: user 31.1 ms, sys: 5.68 ms, total: 36.7 ms\nWall time: 37 ms\n"
     ]
    }
   ],
   "source": [
    "%%time\n",
    "# import csv\n",
    "import unicodecsv as csv\n",
    "import numpy as np\n",
    "from sklearn.feature_extraction.text import CountVectorizer\n",
    "from pos_to_features import default_values, process_pos\n",
    "\n",
    "\n",
    "def add_prefix(prefix, iterable):\n",
    "    for item in iterable:\n",
    "        yield prefix + \"_\" + item\n",
    "\n",
    "\n",
    "# learn training data vocabulary, then use it to create a document-term matrix\n",
    "vect_lemma = CountVectorizer()\n",
    "vect_lemma.fit(X_train.lemma)\n",
    "\n",
    "# create list with the names of columns in dataframe\n",
    "lemma_feat_names = list(vect_lemma.get_feature_names())\n",
    "pos_feat_names = list(default_values.keys())\n",
    "column_names = ['token', 'lemma', 'POS', 'is_negation'] + \\\n",
    "               ['has_sk_prefix', 'has_int_prefix', 'is_particle', \n",
    "                'word_without_prefix_exist', 'start_with_ne'] + \\\n",
    "               list(add_prefix('word1', pos_feat_names)) + \\\n",
    "               list(add_prefix('word2', pos_feat_names)) + \\\n",
    "               list(add_prefix('word3', pos_feat_names)) + \\\n",
    "               list(add_prefix('word4', pos_feat_names)) + \\\n",
    "               list(add_prefix('word5', pos_feat_names))\n",
    "\n",
    "\n",
    "def create_features_list(dataframe):\n",
    "    feautures_list = []\n",
    "    for index, row in dataframe.iterrows():\n",
    "        if index >= dataframe.iloc[-4].name:\n",
    "            break\n",
    "        # Prefixes + Particles\n",
    "        prefices_and_particles = np.array(detect_prefixes_and_particles(dataframe.loc[index+2]['lemma']))\n",
    "        # POS\n",
    "        dtm_pos1 = list(process_pos(row['POS']).values())\n",
    "        dtm_pos2 = list(process_pos(dataframe.loc[index+1]['POS']).values())\n",
    "        dtm_pos3 = list(process_pos(dataframe.loc[index+2]['POS']).values())\n",
    "        dtm_pos4 = list(process_pos(dataframe.loc[index+3]['POS']).values())\n",
    "        dtm_pos5 = list(process_pos(dataframe.loc[index+4]['POS']).values())\n",
    "        all_things = np.concatenate([\n",
    "            [dataframe.loc[index+2]['token']],\n",
    "            [dataframe.loc[index+2]['lemma']],\n",
    "            [dataframe.loc[index+2]['POS']],\n",
    "            [dataframe.loc[index+2]['is_negation']],\n",
    "            prefices_and_particles,\n",
    "            dtm_pos1,\n",
    "            dtm_pos2,\n",
    "            dtm_pos3,\n",
    "            dtm_pos4,\n",
    "            dtm_pos5,\n",
    "        ])\n",
    "        feautures_list.append(all_things)\n",
    "    return feautures_list\n",
    "\n",
    "\n",
    "def save_to_csv(filename, header_row, feautures_list):\n",
    "    with open(filename, 'wb') as myfile:\n",
    "        wr = csv.writer(myfile, quoting=csv.QUOTE_MINIMAL)\n",
    "        wr.writerow(header_row)\n",
    "        for row in feautures_list:\n",
    "            wr.writerow(row)"
   ]
  },
  {
   "cell_type": "code",
   "execution_count": 46,
   "metadata": {
    "collapsed": false,
    "deletable": true,
    "editable": true
   },
   "outputs": [
    {
     "name": "stdout",
     "output_type": "stream",
     "text": [
      "CPU times: user 15.7 s, sys: 363 ms, total: 16.1 s\nWall time: 16.9 s\n"
     ]
    }
   ],
   "source": [
    "%%time\n",
    "\n",
    "# First we transform data into lists\n",
    "X_train_features_list = create_features_list(X_train)\n",
    "X_test_features_list = create_features_list(X_test)"
   ]
  },
  {
   "cell_type": "code",
   "execution_count": 47,
   "metadata": {
    "collapsed": false,
    "deletable": true,
    "editable": true
   },
   "outputs": [
    {
     "name": "stdout",
     "output_type": "stream",
     "text": [
      "CPU times: user 1.14 s, sys: 41.1 ms, total: 1.18 s\nWall time: 1.25 s\n"
     ]
    }
   ],
   "source": [
    "%%time\n",
    "\n",
    "# Now we save our data to csv files\n",
    "save_to_csv('train2.csv', column_names, X_train_features_list)\n",
    "save_to_csv('test2.csv', column_names, X_test_features_list)"
   ]
  },
  {
   "cell_type": "markdown",
   "metadata": {
    "deletable": true,
    "editable": true
   },
   "source": [
    "## Training"
   ]
  },
  {
   "cell_type": "code",
   "execution_count": 48,
   "metadata": {},
   "outputs": [
    {
     "name": "stdout",
     "output_type": "stream",
     "text": [
      "CPU times: user 319 ms, sys: 49.3 ms, total: 368 ms\nWall time: 434 ms\n"
     ]
    }
   ],
   "source": [
    "%%time\n",
    "\n",
    "# Load dataset\n",
    "df_train = pd.read_csv('train2.csv')\n",
    "df_test = pd.read_csv('test2.csv')"
   ]
  },
  {
   "cell_type": "code",
   "execution_count": 49,
   "metadata": {},
   "outputs": [],
   "source": [
    "df2_train = df_train[df_train.columns.difference(['token', 'lemma', 'POS', 'is_negation'])]\n",
    "df2_test = df_test[df_test.columns.difference(['token', 'lemma', 'POS', 'is_negation'])]"
   ]
  },
  {
   "cell_type": "code",
   "execution_count": 56,
   "metadata": {
    "collapsed": false,
    "deletable": true,
    "editable": true
   },
   "outputs": [
    {
     "name": "stdout",
     "output_type": "stream",
     "text": [
      "CPU times: user 174 ms, sys: 23.7 ms, total: 197 ms\nWall time: 202 ms\n"
     ]
    }
   ],
   "source": [
    "%%time\n",
    "# Import Library of Gaussian Naive Bayes model\n",
    "from sklearn.naive_bayes import GaussianNB, MultinomialNB, BernoulliNB\n",
    "from sklearn.svm import SVC\n",
    "from sklearn.ensemble import RandomForestClassifier\n",
    "\n",
    "# model = MultinomialNB()\n",
    "# model = GaussianNB()\n",
    "# model = BernoulliNB()\n",
    "# model = SVC()\n",
    "model = RandomForestClassifier()\n",
    "\n",
    "# Train the model using the training sets \n",
    "model.fit(df2_train, df_train.is_negation)"
   ]
  },
  {
   "cell_type": "markdown",
   "metadata": {},
   "source": [
    "## Metrics"
   ]
  },
  {
   "cell_type": "code",
   "execution_count": 57,
   "metadata": {},
   "outputs": [
    {
     "name": "stdout",
     "output_type": "stream",
     "text": [
      "Accuracy: 0.9925415949512335\nPrecision: 1.0\nRecall: 0.8266666666666667\nF1 score: 0.9051094890510949\n             precision    recall  f1-score   support\n\n          0       0.99      1.00      1.00      1668\n          1       1.00      0.83      0.91        75\n\navg / total       0.99      0.99      0.99      1743\n\n"
     ]
    }
   ],
   "source": [
    "from sklearn import metrics\n",
    "\n",
    "y_pred = model.predict(df2_test)\n",
    "y_true = df_test.is_negation\n",
    "\n",
    "print('Accuracy: {}'.format(metrics.accuracy_score(y_true, y_pred)))\n",
    "print('Precision: {}'.format(metrics.precision_score(y_true, y_pred)))\n",
    "print('Recall: {}'.format(metrics.recall_score(y_true, y_pred)))\n",
    "print('F1 score: {}'.format(metrics.f1_score(y_true, y_pred)))\n",
    "\n",
    "print(metrics.classification_report(y_true, y_pred))"
   ]
  },
  {
   "cell_type": "code",
   "execution_count": 58,
   "metadata": {},
   "outputs": [
    {
     "data": {
      "image/png": "[encoded data removed]",
      "text/plain": [
       "<matplotlib.figure.Figure at 0x1118fbfd0>"
      ]
     },
     "metadata": {},
     "output_type": "display_data"
    }
   ],
   "source": [
    "import matplotlib.pyplot as plt\n",
    "\n",
    "fpr, tpr, threshold = metrics.roc_curve(y_true, y_pred)\n",
    "roc_auc = metrics.auc(fpr, tpr)\n",
    "\n",
    "plt.title('Receiver Operating Characteristic')\n",
    "plt.plot(fpr, tpr, 'b', label='AUC = %0.2f' % roc_auc)\n",
    "plt.legend(loc='lower right')\n",
    "plt.plot([0, 1], [0, 1], 'r--')\n",
    "plt.xlim([0, 1])\n",
    "plt.ylim([0, 1])\n",
    "plt.ylabel('True Positive Rate')\n",
    "plt.xlabel('False Positive Rate')\n",
    "plt.show()"
   ]
  },
  {
   "cell_type": "code",
   "execution_count": 54,
   "metadata": {},
   "outputs": [
    {
     "name": "stderr",
     "output_type": "stream",
     "text": [
      "/Users/jozefg/.virtualenvs/neg/lib/python3.5/site-packages/sklearn/naive_bayes.py:699: RuntimeWarning: divide by zero encountered in log\n  self.feature_log_prob_ = (np.log(smoothed_fc) -\n"
     ]
    },
    {
     "name": "stderr",
     "output_type": "stream",
     "text": [
      "/Users/jozefg/.virtualenvs/neg/lib/python3.5/site-packages/sklearn/metrics/classification.py:1113: UndefinedMetricWarning: F-score is ill-defined and being set to 0.0 due to no predicted samples.\n  'precision', 'predicted', average, warn_for)\n"
     ]
    },
    {
     "name": "stderr",
     "output_type": "stream",
     "text": [
      "/Users/jozefg/.virtualenvs/neg/lib/python3.5/site-packages/sklearn/naive_bayes.py:699: RuntimeWarning: divide by zero encountered in log\n  self.feature_log_prob_ = (np.log(smoothed_fc) -\n/Users/jozefg/.virtualenvs/neg/lib/python3.5/site-packages/sklearn/metrics/classification.py:1113: UndefinedMetricWarning: F-score is ill-defined and being set to 0.0 due to no predicted samples.\n  'precision', 'predicted', average, warn_for)\n"
     ]
    },
    {
     "name": "stderr",
     "output_type": "stream",
     "text": [
      "/Users/jozefg/.virtualenvs/neg/lib/python3.5/site-packages/sklearn/naive_bayes.py:699: RuntimeWarning: divide by zero encountered in log\n  self.feature_log_prob_ = (np.log(smoothed_fc) -\n/Users/jozefg/.virtualenvs/neg/lib/python3.5/site-packages/sklearn/metrics/classification.py:1113: UndefinedMetricWarning: F-score is ill-defined and being set to 0.0 due to no predicted samples.\n  'precision', 'predicted', average, warn_for)\n"
     ]
    },
    {
     "name": "stdout",
     "output_type": "stream",
     "text": [
      "GridSearchCV(cv=None, error_score='raise',\n       estimator=MultinomialNB(alpha=1.0, class_prior=None, fit_prior=True),\n       fit_params={}, iid=True, n_jobs=1,\n       param_grid={'alpha': array([  1.00000e+00,   1.00000e-01,   1.00000e-02,   1.00000e-03,\n         1.00000e-04,   0.00000e+00])},\n       pre_dispatch='2*n_jobs', refit=True, return_train_score=True,\n       scoring=make_scorer(f1_score), verbose=0)\n0.520956697522\n0.001\n"
     ]
    }
   ],
   "source": [
    "# Grid Search for Algorithm Tuning\n",
    "from sklearn.model_selection import GridSearchCV\n",
    "from sklearn import metrics\n",
    "# prepare a range of alpha values to test\n",
    "alphas = np.array([1, 0.1, 0.01, 0.001, 0.0001, 0])\n",
    "# create and fit a ridge regression model, testing each alpha\n",
    "model = MultinomialNB()\n",
    "grid = GridSearchCV(estimator=model, param_grid=dict(alpha=alphas), scoring=metrics.make_scorer(metrics.f1_score))\n",
    "grid.fit(df2_train, df_train.is_negation)\n",
    "print(grid)\n",
    "# summarize the results of the grid search\n",
    "print(grid.best_score_)\n",
    "print(grid.best_estimator_.alpha)"
   ]
  },
  {
   "cell_type": "code",
   "execution_count": null,
   "metadata": {},
   "outputs": [],
   "source": [
    "def print_full(x):\n",
    "    pd.set_option('display.max_rows', len(x))\n",
    "    print(x)\n",
    "    pd.reset_option('display.max_rows')\n",
    "\n",
    "\n",
    "df = pd.DataFrame({'true': y_true, 'predicted': y_pred})\n",
    "df['token'] = df_test.token\n",
    "print_full(df)"
   ]
  },
  {
   "cell_type": "markdown",
   "metadata": {},
   "source": [
    "## Playground"
   ]
  }
 ],
 "metadata": {
  "anaconda-cloud": {},
  "kernelspec": {
   "display_name": "Python 3",
   "language": "python",
   "name": "python3"
  },
  "language_info": {
   "codemirror_mode": {
    "name": "ipython",
    "version": 3.0
   },
   "file_extension": ".py",
   "mimetype": "text/x-python",
   "name": "python",
   "nbconvert_exporter": "python",
   "pygments_lexer": "ipython3",
   "version": "3.6.0"
  }
 },
 "nbformat": 4,
 "nbformat_minor": 0
}