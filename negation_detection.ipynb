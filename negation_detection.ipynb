{
 "cells": [
  {
   "cell_type": "markdown",
   "metadata": {
    "deletable": true,
    "editable": true
   },
   "source": [
    "## Loading dataset"
   ]
  },
  {
   "cell_type": "code",
   "execution_count": 1,
   "metadata": {
    "collapsed": false,
    "deletable": true,
    "editable": true
   },
   "outputs": [
    {
     "name": "stdout",
     "output_type": "stream",
     "text": [
      "CPU times: user 415 ms, sys: 98.4 ms, total: 513 ms\nWall time: 667 ms\n"
     ]
    }
   ],
   "source": [
    "%%time\n",
    "import random\n",
    "import pandas as pd\n",
    "import xml.etree.ElementTree as ET\n",
    "\n",
    "NONE_REPR = '__None__'  # representation of none word - at the beginning and end of sentence\n",
    "\n",
    "token_list = []\n",
    "lemma_list = []\n",
    "pos_list = []\n",
    "is_negation_list = []\n",
    "\n",
    "\n",
    "def add_nan():\n",
    "    token_list.append(NONE_REPR)\n",
    "    token_list.append(NONE_REPR)\n",
    "    lemma_list.append(NONE_REPR)\n",
    "    lemma_list.append(NONE_REPR)\n",
    "    pos_list.append(NONE_REPR)\n",
    "    pos_list.append(NONE_REPR)\n",
    "    is_negation_list.append(0)\n",
    "    is_negation_list.append(0)\n",
    "\n",
    "\n",
    "root = ET.parse('korpus_scraper/dataset-merged.xml').getroot()\n",
    "sentences = root.getchildren()\n",
    "random.shuffle(sentences)\n",
    "\n",
    "for sentence in sentences:\n",
    "    add_nan()\n",
    "    \n",
    "    for token in sentence:\n",
    "        token_list.append(token.text)\n",
    "        lemma_list.append(token.attrib['lemma'])\n",
    "        pos_list.append(token.attrib['pos'])\n",
    "        is_negation_list.append(int('negator' in token.attrib))\n",
    "    \n",
    "    add_nan()\n",
    "\n",
    "df_start = pd.DataFrame.from_dict({\n",
    "    'token': token_list, \n",
    "    'lemma': lemma_list, \n",
    "    'POS': pos_list, \n",
    "    'is_negation': is_negation_list,\n",
    "})\n",
    "\n",
    "# Split dataset into train and test sets\n",
    "split = 0.75\n",
    "train = df_start[:int(split*len(df_start))]\n",
    "test = df_start[int(split*len(df_start)):]\n",
    "X_train = train[['token', 'lemma', 'POS', 'is_negation']]\n",
    "X_test = test[['token', 'lemma', 'POS', 'is_negation']]\n",
    "y_train = train.is_negation\n",
    "y_test = test.is_negation"
   ]
  },
  {
   "cell_type": "markdown",
   "metadata": {
    "deletable": true,
    "editable": true
   },
   "source": [
    "## Vectorizing"
   ]
  },
  {
   "cell_type": "code",
   "execution_count": 2,
   "metadata": {},
   "outputs": [],
   "source": [
    "# Prepare sets for features\n",
    "prefix_sk = {'ne', 'bez', 'pa', 'roz', 'proti', 'polo', 'tiež', 'akoby', 'trochu', 'truc', 'mimo', }\n",
    "prefix_int = {'pseudo', 'i', 'in', 'anti', 'kontra', 'a', 'an', 'ex', 'non', 'kvázi', 'hypo', 'de', 'dez', 'ex', \n",
    "              'extra', }\n",
    "particles = {'nie', 'figu', 'drevenú', 'figu', 'borovú', 'jalovú', 'figu', 'šušku', 'šušku', 'borovú', 'čerta', 'čerta', \n",
    "             'starého', 'čerta', 'rohatého', 'čerta', 'pekelného', 'čerta', 'ušatého', 'čerta', 'strapatého', 'paroma', \n",
    "             'paroma', 'starého', 'hroma', 'psiu', 'mater', 'horký', 'horkýtam', 'horkýže', 'horkýžetam', 'aleba', \n",
    "             'ale', 'čo', 'kde', 'kdeže', 'kdeby', 'kdežeby', 'kdežetam', 'kdežebytam', 'čo', 'čože', 'čoby', 'čožeby', \n",
    "             'ešte', 'čo', 'ešteže', 'čo', 'akurát', 'javeru', 'rozhodne', 'rovno', 'aký', 'akýže', 'akéže', }\n",
    "slovak_dict = set(line.strip() for line in open('sk.dic'))\n",
    "\n",
    "\n",
    "def start_with_prefix(word, prefixes):\n",
    "    for p in prefixes:\n",
    "        if word.startswith(p):\n",
    "            return True, p\n",
    "    return False, p\n",
    "\n",
    "\n",
    "def detect_prefixes_and_particles(lemma):\n",
    "    has_sk_prefix, p_sk = start_with_prefix(lemma, prefix_sk)\n",
    "    has_int_prefix, p_int = start_with_prefix(lemma, prefix_int)\n",
    "    is_particle = lemma in particles\n",
    "    if has_sk_prefix:\n",
    "        prefix = p_sk\n",
    "    elif has_int_prefix:\n",
    "        prefix = p_int\n",
    "    else:\n",
    "        prefix = None\n",
    "    word_without_prefix_exist = False\n",
    "    if prefix:\n",
    "        word_without_prefix_exist = lemma[len(prefix):] in slovak_dict\n",
    "    return has_sk_prefix, has_int_prefix, is_particle, word_without_prefix_exist"
   ]
  },
  {
   "cell_type": "code",
   "execution_count": 3,
   "metadata": {
    "collapsed": false,
    "deletable": true,
    "editable": true
   },
   "outputs": [
    {
     "name": "stdout",
     "output_type": "stream",
     "text": [
      "CPU times: user 509 ms, sys: 73.7 ms, total: 582 ms\nWall time: 981 ms\nParser   : 135 ms\n"
     ]
    }
   ],
   "source": [
    "%%time\n",
    "# import csv\n",
    "import unicodecsv as csv\n",
    "import numpy as np\n",
    "from sklearn.feature_extraction.text import CountVectorizer\n",
    "from pos_to_features import default_values, process_pos\n",
    "\n",
    "\n",
    "def add_prefix(prefix, iterable):\n",
    "    for item in iterable:\n",
    "        yield prefix + \"_\" + item\n",
    "\n",
    "\n",
    "# learn training data vocabulary, then use it to create a document-term matrix\n",
    "vect_lemma = CountVectorizer()\n",
    "vect_lemma.fit(X_train.lemma)\n",
    "\n",
    "# create list with the names of columns in dataframe\n",
    "lemma_feat_names = list(vect_lemma.get_feature_names())\n",
    "pos_feat_names = list(default_values.keys())\n",
    "column_names = ['token', 'lemma', 'POS', 'is_negation'] + \\\n",
    "               ['has_sk_prefix', 'has_int_prefix', 'is_particle', 'word_without_prefix_exist'] + \\\n",
    "               list(add_prefix('word1', lemma_feat_names)) + \\\n",
    "               list(add_prefix('word2', lemma_feat_names)) + \\\n",
    "               list(add_prefix('word3', lemma_feat_names)) + \\\n",
    "               list(add_prefix('word4', lemma_feat_names)) + \\\n",
    "               list(add_prefix('word5', lemma_feat_names)) + \\\n",
    "               list(add_prefix('word1', pos_feat_names)) + \\\n",
    "               list(add_prefix('word2', pos_feat_names)) + \\\n",
    "               list(add_prefix('word3', pos_feat_names)) + \\\n",
    "               list(add_prefix('word4', pos_feat_names)) + \\\n",
    "               list(add_prefix('word5', pos_feat_names))\n",
    "\n",
    "\n",
    "def create_features_list(dataframe):\n",
    "    feautures_list = []\n",
    "    for index, row in dataframe.iterrows():\n",
    "        if index >= dataframe.iloc[-4].name:\n",
    "            break\n",
    "        # Prefixes + Particles\n",
    "        prefices_and_particles = np.array(detect_prefixes_and_particles(dataframe.loc[index+2]['lemma']))\n",
    "        # LEMMA\n",
    "        dtm_lemma1 = vect_lemma.transform([row['lemma']])\n",
    "        dtm_lemma2 = vect_lemma.transform([dataframe.loc[index+1]['lemma']])\n",
    "        dtm_lemma3 = vect_lemma.transform([dataframe.loc[index+2]['lemma']])\n",
    "        dtm_lemma4 = vect_lemma.transform([dataframe.loc[index+3]['lemma']])\n",
    "        dtm_lemma5 = vect_lemma.transform([dataframe.loc[index+4]['lemma']])\n",
    "        # POS\n",
    "        dtm_pos1 = list(process_pos(row['POS']).values())\n",
    "        dtm_pos2 = list(process_pos(dataframe.loc[index+1]['POS']).values())\n",
    "        dtm_pos3 = list(process_pos(dataframe.loc[index+2]['POS']).values())\n",
    "        dtm_pos4 = list(process_pos(dataframe.loc[index+3]['POS']).values())\n",
    "        dtm_pos5 = list(process_pos(dataframe.loc[index+4]['POS']).values())\n",
    "        all_things = np.concatenate([\n",
    "            [dataframe.loc[index+2]['token']],\n",
    "            [dataframe.loc[index+2]['lemma']],\n",
    "            [dataframe.loc[index+2]['POS']],\n",
    "            [dataframe.loc[index+2]['is_negation']],\n",
    "            prefices_and_particles,\n",
    "            dtm_lemma1.toarray()[0],\n",
    "            dtm_lemma2.toarray()[0],\n",
    "            dtm_lemma3.toarray()[0],\n",
    "            dtm_lemma4.toarray()[0],\n",
    "            dtm_lemma5.toarray()[0],\n",
    "            dtm_pos1,\n",
    "            dtm_pos2,\n",
    "            dtm_pos3,\n",
    "            dtm_pos4,\n",
    "            dtm_pos5,\n",
    "        ])\n",
    "        feautures_list.append(all_things)\n",
    "    return feautures_list\n",
    "\n",
    "\n",
    "def save_to_csv(filename, header_row, feautures_list):\n",
    "    with open(filename, 'wb') as myfile:\n",
    "        wr = csv.writer(myfile, quoting=csv.QUOTE_MINIMAL)\n",
    "        wr.writerow(header_row)\n",
    "        for row in feautures_list:\n",
    "            wr.writerow(row)"
   ]
  },
  {
   "cell_type": "code",
   "execution_count": 4,
   "metadata": {
    "collapsed": false,
    "deletable": true,
    "editable": true
   },
   "outputs": [
    {
     "name": "stdout",
     "output_type": "stream",
     "text": [
      "CPU times: user 44.1 s, sys: 3.2 s, total: 47.3 s\nWall time: 52.5 s\n"
     ]
    }
   ],
   "source": [
    "%%time\n",
    "\n",
    "# First we transform data into lists\n",
    "X_train_features_list = create_features_list(X_train)\n",
    "X_test_features_list = create_features_list(X_test)"
   ]
  },
  {
   "cell_type": "code",
   "execution_count": 5,
   "metadata": {
    "collapsed": false,
    "deletable": true,
    "editable": true
   },
   "outputs": [
    {
     "name": "stdout",
     "output_type": "stream",
     "text": [
      "CPU times: user 31.4 s, sys: 6.08 s, total: 37.5 s\nWall time: 41.4 s\n"
     ]
    }
   ],
   "source": [
    "%%time\n",
    "\n",
    "# Now we save our data to csv files\n",
    "save_to_csv('train.csv', column_names, X_train_features_list)\n",
    "save_to_csv('test.csv', column_names, X_test_features_list)"
   ]
  },
  {
   "cell_type": "markdown",
   "metadata": {
    "deletable": true,
    "editable": true
   },
   "source": [
    "## Training"
   ]
  },
  {
   "cell_type": "code",
   "execution_count": 6,
   "metadata": {},
   "outputs": [
    {
     "name": "stdout",
     "output_type": "stream",
     "text": [
      "CPU times: user 20.2 s, sys: 2.05 s, total: 22.3 s\nWall time: 24.1 s\n"
     ]
    }
   ],
   "source": [
    "%%time\n",
    "\n",
    "# Load dataset\n",
    "df_train = pd.read_csv('train.csv')\n",
    "df_test = pd.read_csv('test.csv')"
   ]
  },
  {
   "cell_type": "code",
   "execution_count": 15,
   "metadata": {},
   "outputs": [],
   "source": [
    "df2_train = df_train[df_train.columns.difference(['token', 'lemma', 'POS', 'is_negation'])]\n",
    "df2_test = df_test[df_test.columns.difference(['token', 'lemma', 'POS', 'is_negation'])]"
   ]
  },
  {
   "cell_type": "code",
   "execution_count": 30,
   "metadata": {
    "collapsed": false,
    "deletable": true,
    "editable": true
   },
   "outputs": [
    {
     "name": "stdout",
     "output_type": "stream",
     "text": [
      "CPU times: user 3.33 s, sys: 1.24 s, total: 4.57 s\nWall time: 5.39 s\n"
     ]
    }
   ],
   "source": [
    "%%time\n",
    "# Import Library of Gaussian Naive Bayes model\n",
    "from sklearn.naive_bayes import GaussianNB, MultinomialNB, BernoulliNB\n",
    "from sklearn.svm import SVC\n",
    "\n",
    "model = MultinomialNB()\n",
    "# model = GaussianNB(priors=[0.8, 0.2])\n",
    "# model = BernoulliNB()\n",
    "# model = SVC()\n",
    "\n",
    "# Train the model using the training sets \n",
    "model.fit(df2_train, df_train.is_negation)"
   ]
  },
  {
   "cell_type": "code",
   "execution_count": 26,
   "metadata": {},
   "outputs": [
    {
     "data": {
      "text/plain": [
       "array([ 0.8,  0.2])"
      ]
     },
     "execution_count": 26,
     "metadata": {},
     "output_type": "execute_result"
    }
   ],
   "source": [
    "model.class_prior_"
   ]
  },
  {
   "cell_type": "code",
   "execution_count": 42,
   "metadata": {},
   "outputs": [
    {
     "name": "stdout",
     "output_type": "stream",
     "text": [
      "      predicted  true              token\n0             0     0                SME\n1             0     0             členmi\n2             0     0                SIS\n3             0     0       Bezpečnostnú\n4             0     0               radu\n5             0     0              štátu\n6             0     0                  .\n7             0     0           __None__\n8             0     0           __None__\n9             0     0           __None__\n10            0     0           __None__\n11            0     0                Tam\n12            0     0               bolo\n13            0     0               vždy\n14            0     0          svedectvo\n15            0     0               toho\n16            0     0             života\n17            0     0                  ,\n18            0     0              ktoré\n19            0     0               bolo\n20            0     0           doložené\n21            0     0                  ,\n22            0     0          svedectvo\n23            0     0              náuky\n24            0     0                  ,\n25            0     0            zázraky\n26            0     0                  ,\n27            0     0              alebo\n28            0     0         dôležitosť\n29            0     0           určitého\n30            0     0            zázraku\n31            0     0                  ,\n32            0     0                 to\n33            0     0                 je\n34            0     0                pár\n35            0     0          desaťročí\n36            0     0                  ,\n37            0     0                pár\n38            0     0            stáročí\n39            0     0                  ,\n40            0     0               kedy\n41            0     0                 aj\n42            0     0             cirkev\n43            0     0                 sa\n44            0     0              snaží\n45            0     0             akýmsi\n46            0     0           spôsobom\n47            0     0                dať\n48            0     0               takú\n49            0     0            hranicu\n50            0     0                  ,\n51            0     0                aby\n52            1     1             neboli\n53            0     0                  v\n54            0     0             príliš\n55            0     0             takých\n56            0     0            veľkých\n57            0     0            tlakoch\n58            0     0                  ,\n59            0     0                 aj\n60            0     0              tohto\n61            0     0                nám\n62            0     0           vyhláste\n63            0     0                  ,\n64            0     0                 aj\n65            0     0              tohto\n66            0     0                nám\n67            0     0           vyhláste\n68            0     0                  a\n69            0     0            vlastne\n70            0     0                ten\n71            0     0             zázrak\n72            0     0                 je\n73            0     0             akýmsi\n74            0     0              takým\n75            0     0                 aj\n76            0     0         potvrdením\n77            0     0                  ,\n78            0     0                 že\n79            0     0                áno\n80            0     0                  ,\n81            0     0                 že\n82            0     0                 aj\n83            0     0              akoby\n84            0     0                Boh\n85            0     0                tak\n86            0     0           súhlasil\n87            0     0                  s\n88            0     0              touto\n89            0     0       kanonizáciou\n90            0     0                  s\n91            0     0              týmto\n92            0     0           procesom\n93            0     0                  ,\n94            0     0                 že\n95            0     0                 to\n96            0     0                 je\n97            0     1                nie\n98            0     0                 je\n99            0     0                len\n100           0     0               taká\n101           0     0             nejaká\n102           0     0             ľudská\n103           0     0              snaha\n104           0     0                  ,\n105           0     0                 že\n106           0     0               máme\n107           0     0                 tu\n108           0     0            niekoho\n109           0     0                  ,\n110           0     0               koho\n111           0     0               máme\n112           0     0               radi\n113           0     0                  a\n114           0     0               koho\n115           0     0                 by\n116           0     0                sme\n117           0     0               radi\n118           0     0             niekde\n119           0     0               dali\n120           0     0                  ,\n121           0     0                ale\n122           0     0                  ,\n123           0     0                 že\n124           0     0                 aj\n125           0     0                Boh\n126           0     0              akoby\n127           0     0         schvaľoval\n128           0     0             spätne\n129           0     0              tento\n130           0     0                náš\n131           0     0             proces\n132           0     0                  .\n133           0     0           __None__\n134           0     0           __None__\n135           0     0           __None__\n136           0     0           __None__\n137           0     0                Ale\n138           0     0           niektorí\n139           0     0           študenti\n140           0     0               boli\n141           0     0          využívaní\n142           0     0                ako\n143           0     0              lacná\n144           0     0           pracovná\n145           0     0               sila\n146           0     0                  ,\n147           0     0              vôbec\n148           0     0                 sa\n149           0     1          nedostali\n150           0     0                  k\n151           0     0             výdaju\n152           0     0             liekov\n153           0     0                  a\n154           0     0               boli\n155           0     0               viac\n156           0     0                pri\n157           0     0          preberaní\n158           0     0             tovaru\n159           0     0                  .\n160           0     0           __None__\n161           0     0           __None__\n162           0     0           __None__\n163           0     0           __None__\n164           0     0                  V\n165           0     0               behu\n166           0     0                som\n167           0     0                 si\n168           0     0           odkrútil\n169           0     0                iba\n170           0     0          približne\n171           0     0                dve\n172           0     0            tretiny\n173           0     0              trate\n174           0     0           súťažným\n175           0     0             tempom\n176           0     0                  ,\n177           0     0                 no\n178           0     1         nedokončil\n179           0     0                som\n180           0     0               túto\n181           0     0               časť\n182           0     0                  ,\n183           0     0           odstúpil\n184           0     0                som\n185           0     0                  .\n186           0     0           __None__\n187           0     0           __None__\n188           0     0           __None__\n189           0     0           __None__\n190           0     0              Zápas\n191           0     0                 sa\n192           0     1          neodohral\n193           0     0              kvôli\n194           0     0          tragickej\n195           0     0            havárie\n196           0     0           autobusu\n197           0     0                  s\n198           0     0             vlakom\n199           0     0                  v\n200           0     0            Polomke\n201           0     0                  ,\n202           0     0                kde\n203           0     0           zahynuli\n204           0     0          Bánočania\n205           0     0                  ,\n206           0     0                  a\n207           0     0                tak\n208           0     0                 na\n209           0     0             nedeľu\n210           0     0                  -\n211           0     0                 22\n212           0     0                  .\n213           0     0           __None__\n214           0     0           __None__\n215           0     0           __None__\n216           0     0           __None__\n217           0     0           Kanadský\n218           0     0            obranca\n219           0     0               Shea\n220           0     0              Weber\n221           0     0                 si\n222           0     0                 po\n223           0     0             hrubom\n224           0     0              faule\n225           0     0             lakťom\n226           0     0                 na\n227           0     0              hlavu\n228           0     0          nemeckého\n229           0     0           útočníka\n230           0     0            Yannica\n231           0     0        Seidenberga\n232           0     1            nezahrá\n233           0     0                  v\n234           0     0    nadchádzajúcich\n235           0     0              troch\n236           0     0           súbojoch\n237           0     0         kanadského\n238           0     0             výberu\n239           0     0                  .\n240           0     0           __None__\n241           0     0           __None__\n242           0     0           __None__\n243           0     0           __None__\n244           0     0                 Ak\n245           0     0                vás\n246           0     0            zaujíma\n247           0     0               stav\n248           0     0         kompilácie\n249           0     0               toho\n250           0     0        najlepšieho\n251           0     0                  z\n252           0     0          Demovnice\n253           0     0                 za\n254           0     0             minulý\n255           0     0                rok\n256           0     0                  ,\n257           0     0                tak\n258           0     0                  s\n259           0     0             úľavou\n260           0     0              môžem\n261           0     0            oznámiť\n262           0     0                  ,\n263           0     0                 že\n264           0     0                 už\n265           0     0                 to\n266           0     1                nie\n267           0     1                 je\n268           0     0                  v\n269           0     0             mojich\n270           0     0             rukách\n271           0     0                  ,\n272           0     0                  a\n273           0     0               teda\n274           0     0                 že\n275           0     0               obal\n276           0     0                  i\n277           0     0            samotné\n278           0     0            skladby\n279           0     0                som\n280           0     0                cca\n281           0     0               pred\n282           0     0            týždňom\n283           0     0           odovzdal\n284           0     0      vydavateľstvu\n285           0     0              Monti\n286           0     0            Records\n287           0     0                  ,\n288           0     0              ktoré\n289           0     0                 sa\n290           0     0              stará\n291           0     0                  o\n292           0     0          lisovanie\n293           0     0                  ,\n294           0     0               tlač\n295           0     0                  a\n296           0     0        distribúciu\n297           0     0                  .\n298           0     0           __None__\n299           0     0           __None__\n300           0     0           __None__\n301           0     0           __None__\n302           0     0             Izrael\n303           0     0                  k\n304           0     0         obvineniam\n305           0     0             postoj\n306           0     1           nezaujal\n307           0     0                  .\n308           0     0           __None__\n309           0     0           __None__\n310           0     0           __None__\n311           0     0           __None__\n312           0     0           Odchodom\n313           0     0          delegácií\n314           0     0             výmena\n315           0     0            nározov\n316           0     0                 sa\n317           0     1         neskončila\n318           0     0                  .\n319           0     0           __None__\n320           0     0           __None__\n321           0     0           __None__\n322           0     0           __None__\n323           0     1         Nestrážená\n324           0     0             chvíľa\n325           0     0               však\n326           0     1        neprichádza\n327           0     0                 do\n328           0     0              úvahy\n329           0     0                  .\n330           0     0           __None__\n331           0     0           __None__\n332           0     0           __None__\n333           0     0           __None__\n334           0     0              Podľa\n335           0     0          Antalovej\n336           0     0                  „\n337           0     0       príležitostí\n338           0     0                 na\n339           0     0              vznik\n340           0     0         spomínanej\n341           0     0           situácie\n342           0     0                 je\n343           0     0                  v\n344           0     0            regióne\n345           0     0             hornej\n346           0     0              Nitry\n347           0     0               viac\n348           0     0                ako\n349           0     0               dosť\n350           0     0                  ,\n351           0     0              preto\n352           0     0                 by\n353           0     0         záhradkári\n354           0     0               mali\n355           0     0                byť\n356           0     0            opatrní\n357           0     0                  a\n358           0     1       nepodceňovať\n359           0     0             riziká\n360           0     0                  .\n361           0     0                  “\n362           0     0           __None__\n363           0     0           __None__\n364           0     0           __None__\n365           0     0           __None__\n366           0     0                 Je\n367           0     0               však\n368           0     0            rozumné\n369           0     0                  ,\n370           0     0                 že\n371           0     0                 si\n372           0     0                 na\n373           0     0               úvod\n374           0     1           nekladie\n375           0     0              latku\n376           0     0             príliš\n377           0     0             vysoko\n378           0     0                  ,\n379           0     0            pretože\n380           0     0                 to\n381           0     0                 je\n382           0     0               istá\n383           0     0              cesta\n384           0     0                  ,\n385           0     0                ako\n386           0     0             dostať\n387           0     0                sám\n388           0     0               seba\n389           0     0                pod\n390           0     1           neželaný\n391           0     0               tlak\n392           0     0                  .\n393           0     0           __None__\n394           0     0           __None__\n395           0     0           __None__\n396           0     0           __None__\n397           0     0                  A\n398           0     0           skutočne\n399           0     0                  -\n400           0     0              podľa\n401           0     0          Eliášovho\n402           0     0          proroctva\n403           0     0               múky\n404           0     0                  z\n405           0     0              hrnca\n406           0     1          neubúdalo\n407           0     0                  a\n408           0     0                  v\n409           0     0             krčahu\n410           0     1           nechýbal\n411           0     0               olej\n412           0     0                 až\n413           0     0                 do\n414           0     0                dňa\n415           0     0                  ,\n416           0     0                keď\n417           0     0                Pán\n418           0     0             zoslal\n419           0     0                 na\n420           0     0                zem\n421           0     0               dážď\n422           0     0                  .\n423           0     0           __None__\n424           0     0           __None__\n425           0     0           __None__\n426           0     0           __None__\n427           0     0                 Je\n428           0     0                 tu\n429           0     0            potreba\n430           0     0           prekonať\n431           0     0              dusnú\n432           0     0          atmosféru\n433           0     0                 vo\n434           0     0             vnútri\n435           0     0                AWS\n436           0     0                  ,\n437           0     0            zdrojom\n438           0     0             ktorej\n439           0     0                 je\n440           0     1       nedôslednosť\n441           0     0      predkladaných\n442           0     0            návrhov\n443           0     0                  a\n444           0     0        politických\n445           0     0        predsavzatí\n446           0     0                  .\n447           0     0           __None__\n448           0     0           __None__\n449           0     0           __None__\n450           0     0           __None__\n451           0     0                 Aj\n452           0     0               také\n453           0     0                 sú\n454           0     0               teda\n455           0     0           dôsledky\n456           0     0               toho\n457           0     0                  ,\n458           0     0                 že\n459           0     0            premiér\n460           0     1             nechce\n461           0     0            dráždiť\n462           0     0            voličov\n463           0     0                ani\n464           0     0         minimálnym\n465           0     0          zdražením\n466           0     0         cestovného\n467           0     0                  :\n468           0     0            jednému\n469           0     0                 sa\n470           0     0                  z\n471           0     0               hrbu\n472           0     0             uberie\n473           0     0                  ,\n474           0     0            druhému\n475           0     0                 sa\n476           0     0                  k\n477           0     0               hrbu\n478           0     0              pridá\n479           0     0                  .\n480           0     0           __None__\n481           0     0           __None__\n482           0     0           __None__\n483           0     0           __None__\n484           0     0                Sám\n485           0     0                 Ki\n486           0     0                  -\n487           0     0                 no\n488           0     0           Curajuki\n489           0     0                  ,\n490           0     0           predseda\n491           0     0          kolektívu\n492           0     0     zostavovateľov\n493           0     0                  a\n494           0     0              autor\n495           0     0         Japonského\n496           0     0              úvodu\n497           0     0                  ,\n498           0     0                bol\n499           0     0          literátom\n500           0     0           dokonale\n501           0     0                 sa\n502           0     0       orientujúcim\n503           0     0                  v\n504           0     0            čínskej\n505           0     0             spisbe\n506           0     0                  a\n507           0     0        ovládajúcim\n508           0     0           klasickú\n509           0     0           čínštinu\n510           0     0                 aj\n511           0     0            aktívne\n512           0     0                  ,\n513           0     0               hoci\n514           0     1                nie\n515           0     0                 do\n516           0     0              takej\n517           0     0              miery\n518           0     0                ako\n519           0     0             bývalý\n520           0     0           vyslanec\n521           0     0                  v\n522           0     0         Tchangskej\n523           0     0               ríši\n524           0     0           Sugawara\n525           0     0                  -\n526           0     0                 no\n527           0     0           Mičizane\n528           0     0                  ,\n529           0     0            ktorého\n530           0     0              náhly\n531           0     0                pád\n532           0     0            kariéry\n533           0     0                  a\n534           0     0             smutné\n535           0     0         zakončenie\n536           0     0             života\n537           0     0                  v\n538           0     0           opustení\n539           0     0         vyhnanstva\n540           0     0                 sa\n541           0     0             odráža\n542           0     0                 aj\n543           0     0                  v\n544           0     0               jeho\n545           0     0           slávnych\n546           0     0                 po\n547           0     0             čínsky\n548           0     0           písaných\n549           0     0            básňach\n550           0     0                  .\n551           0     0           __None__\n552           0     0           __None__\n553           0     0           __None__\n554           0     0           __None__\n555           0     0             Výroba\n556           0     0              filmu\n557           0     0          Schwerter\n558           0     0                des\n559           0     0             Königs\n560           0     0                  -\n561           0     0            Dungeon\n562           0     0              Siege\n563           0     0          nemeckého\n564           0     0           režiséra\n565           0     0              Uweho\n566           0     0              Bolla\n567           0     0              stála\n568           0     0                 60\n569           0     0           miliónov\n570           0     0            dolárov\n571           0     0                  ,\n572           0     0                 no\n573           0     0               jeho\n574           0     0              tržby\n575           0     0                  v\n576           0     0             kinách\n577           0     0           dosiahli\n578           0     1           necelých\n579           0     0                päť\n580           0     0           miliónov\n581           0     0                  .\n582           0     0           __None__\n583           0     0           __None__\n584           0     0           __None__\n585           0     0           __None__\n586           0     0                 Ak\n587           0     0           dopravný\n588           0     0                kód\n589           0     0             chápem\n590           0     0          empiricky\n591           0     0                  (\n592           0     1               mimo\n593           0     0             jazyka\n594           0     0                  )\n595           0     0                  ,\n596           0     1           nevnímam\n597           0     0            kvality\n598           0     0                  ,\n599           0     0                ale\n600           0     0           rozdiely\n601           0     0                  :\n602           0     0            červená\n603           0     0                  ,\n604           0     0             zelená\n605           0     0                  a\n606           0     0           oranžová\n607           0     1             nemajú\n608           0     0                  (\n609           0     0                pre\n610           0     0                mňa\n611           0     0                  )\n612           0     0                inú\n613           0     0            realitu\n614           0     0                ako\n615           0     0              svoje\n616           0     0             vzťahy\n617           0     0                  ,\n618           0     0                hru\n619           0     0            svojich\n620           0     0        protikladov\n621           0     0                  .\n622           0     0           __None__\n623           0     0           __None__\n624           0     0           __None__\n625           0     0           __None__\n626           0     0                 Na\n627           0     0             otázku\n628           0     0                  ,\n629           0     0                 či\n630           0     0                 sa\n631           1     1              nebál\n632           0     0             púšťať\n633           0     0                 sa\n634           0     0                 do\n635           0     0            biznisu\n636           0     0                  ,\n637           0     0                 po\n638           0     0             ktorom\n639           0     0                bol\n640           0     0               síce\n641           0     0               hlad\n642           0     0                  ,\n643           0     0                 no\n644           0     0            chýbali\n645           0     0             hlavne\n646           0     0            dovozné\n647           0     0             kanály\n648           0     0                  ,\n649           0     0                  s\n650           0     0           odstupom\n651           0     0               času\n652           0     0                len\n653           0     0              mávne\n654           0     0              rukou\n655           0     0                  .\n656           0     0           __None__\n657           0     0           __None__\n658           0     0           __None__\n659           0     0           __None__\n660           0     0           Skladaná\n661           0     0            krytina\n662           0     1        nespĺňajúca\n663           0     0           základné\n664           0     0          technické\n665           0     0         požiadavky\n666           0     0              Medzi\n667           0     0       najčastejšie\n668           0     0                 sa\n669           0     0        vyskytujúce\n670           0     0              chyby\n671           0     0          skladanej\n672           0     0            krytiny\n673           0     0             patria\n674           0     0                  :\n675           0     0           __None__\n676           0     0           __None__\n677           0     0           __None__\n678           0     0           __None__\n679           0     1           Nesmieme\n680           0     0           zabudnúť\n681           0     0                 na\n682           0     0           vedúceho\n683           0     0                  z\n684           0     0           minulého\n685           0     0               roku\n686           0     0                  ,\n687           0     0            dobrého\n688           0     0                  ,\n689           0     0            múdreho\n690           0     0                  ,\n691           0     0            pekného\n692           0     0                  a\n693           0     0              najmä\n694           0     0          skromného\n695           0     0             Jozefa\n696           0     0                  ,\n697           0     0              ktorý\n698           0     0                nás\n699           0     0            prišiel\n700           0     0          navštíviť\n701           0     0                  .\n702           0     0           __None__\n703           0     0           __None__\n704           0     0           __None__\n705           0     0           __None__\n706           0     0      Scientistický\n707           0     0                  i\n708           0     1  antiscientistický\n709           0     0                typ\n710           0     0      filozofovania\n711           0     0                  v\n712           0     0       ktorejkoľvek\n713           0     0                  z\n714           0     0             týchto\n715           0     0               etáp\n716           0     0                 sa\n717           0     0          realizuje\n718           0     0                 de\n719           0     0              facto\n720           0     0                ako\n721           0     0        intervencia\n722           0     0          pojmových\n723           0     0       konfigurácií\n724           0     0                  v\n725           0     0            úvahách\n726           0     0                  o\n727           0     0          výchovnej\n728           0     0            realite\n729           0     0                  v\n730           0     0       ktoromkoľvek\n731           0     0                jej\n732           0     0               reze\n733           0     0                  ,\n734           0     0              prvku\n735           0     0                  ,\n736           0     0         súvislosti\n737           0     0                 či\n738           0     0            aspekte\n739           0     0      tematizovanom\n740           0     0                tým\n741           0     0                  ‐\n742           0     0             ktorým\n743           0     0     reprezentantom\n744           0     0         edukačného\n745           0     0      filozofovania\n746           0     0                  .\n747           0     0           __None__\n748           0     0           __None__\n749           0     0           __None__\n750           0     0           __None__\n751           0     0           Zaslúžia\n752           0     0                 si\n753           0     0                  ,\n754           0     0                aby\n755           0     0                sme\n756           0     0                ich\n757           0     0                 tu\n758           0     0          spomenuli\n759           0     0                  ,\n760           0     1                nie\n761           0     0              preto\n762           0     0                  ,\n763           0     0                 že\n764           0     0                 sú\n765           0     1          neobvyklé\n766           0     0                  ,\n767           0     0                ale\n768           0     0              preto\n769           0     0                  ,\n770           0     0                 že\n771           0     0                 sa\n772           0     0                nám\n773           0     0                zdá\n774           0     0                  ,\n775           0     0                 že\n776           0     0                 mu\n777           0     0               mali\n778           0     0         pripomínať\n779           0     0                  ,\n780           0     0                akú\n781           0     0           politiku\n782           0     0                 by\n783           0     0                 si\n784           0     0                mal\n785           0     0            osvojiť\n786           0     0                muž\n787           0     0               Boží\n788           0     0                  v\n789           0     0               čase\n790           0     0             takých\n791           0     0           žeravých\n792           0     0          verejných\n793           0     0              vášní\n794           0     0                  :\n795           0     0           politiku\n796           0     0          Talianska\n797           0     0                  ,\n798           0     0       zjednoteného\n799           0     0                 vo\n800           0     0              viere\n801           0     0                  ,\n802           0     0             nádeji\n803           0     0                  a\n804           0     0              láske\n805           0     0                  :\n806           0     0           __None__\n807           0     0           __None__\n808           0     0           __None__\n809           0     0           __None__\n810           0     0                 Po\n811           0     0              troch\n812           0     0           pohároch\n813           0     0               vína\n814           0     0               bolo\n815           0     0              treba\n816           0     0          vynaložiť\n817           0     0             úsilie\n818           0     0                  ,\n819           0     0                aby\n820           0     0                 sa\n821           0     1       nerozosmiala\n822           0     0                 na\n823           0     0           vlastnom\n824           0     0              vtipe\n825           0     0                  .\n826           0     0           __None__\n827           0     0           __None__\n828           0     0           __None__\n829           0     0           __None__\n830           0     0                  „\n831           0     0              Mesto\n832           0     0             utvára\n833           0     0          technické\n834           0     0          podmienky\n835           0     0                  a\n836           0     0         momentálne\n837           1     1               nemá\n838           0     0             záujem\n839           0     0                ísť\n840           0     0                 za\n841           0     0               túto\n842           0     0            hranicu\n843           0     0                  .\n844           0     0           __None__\n845           0     0           __None__\n846           0     0           __None__\n847           0     0           __None__\n848           0     0             Doktor\n849           0     0             Bryant\n850           0     0                 sa\n851           0     0            sklonil\n852           0     0                nad\n853           0     1         bezvládnym\n854           0     0              telom\n855           0     0                 na\n856           0     0            sedadle\n857           0     0              číslo\n858           0     0                dva\n859           0     0                  ,\n860           0     0          zavalitou\n861           0     0              ženou\n862           0     0                  v\n863           0     0           strednom\n864           0     0               veku\n865           0     0                  ,\n866           0     0          oblečenou\n867           0     0                  v\n868           0     0            čiernom\n869           0     0                  .\n870           0     0           __None__\n871           0     0           __None__\n872           0     0           __None__\n873           0     0           __None__\n874           0     0              Polák\n875           0     0              uznal\n876           0     0                  ,\n877           0     0                 že\n878           0     0            projekt\n879           0     0                  Q\n880           0     0                  7\n881           0     0           ovplyvní\n882           0     0       hospodárenie\n883           0     0        spoločnosti\n884           0     0                  ,\n885           0     0          konkrétne\n886           0     0              údaje\n887           0     0               však\n888           0     1          neuviedol\n889           0     0                  .\n890           0     0           __None__\n891           0     0           __None__\n892           0     0           __None__\n893           0     0           __None__\n894           0     0                Tie\n895           0     0             koníky\n896           0     0                  ,\n897           0     0                 čo\n898           0     0                 sa\n899           0     0          ustajňujú\n900           0     0                  ,\n901           0     1             nemajú\n902           0     0           dokonale\n903           0     0           nahodenú\n904           0     0              zimnú\n905           0     0               srsť\n906           0     0                  .\n907           0     0           __None__\n908           0     0           __None__\n909           0     0           __None__\n910           0     0           __None__\n911           0     0       Ministerstvo\n912           0     0           výstavby\n913           0     1        nepodporilo\n914           0     0             stavbu\n915           0     0          veterných\n916           0     0         elektrární\n917           0     0                  ,\n918           0     0                ako\n919           0     0              dôvod\n920           0     0            uviedlo\n921           0     0                ich\n922           0     1        nepriaznivý\n923           0     0              vplyv\n924           0     0                 na\n925           0     0          stabilitu\n926           0     0        elektrickej\n927           0     0            sústavy\n928           0     0                  .\n929           0     0           __None__\n930           0     0           __None__\n931           0     0           __None__\n932           0     0           __None__\n933           0     1              Okrem\n934           0     0               toho\n935           0     0      spolupracujem\n936           0     0                 na\n937           0     0              sérii\n938           0     0        televíznych\n939           0     0         dokumentov\n940           0     0                Top\n941           0     0               ženy\n942           0     0          Slovenska\n943           0     0                  a\n944           0     0                  v\n945           0     0              Prahe\n946           0     0           dorábame\n947           0     0           posledné\n948           0     0      postprodukčné\n949           0     0             úpravy\n950           0     0                 na\n951           0     0           punkovom\n952           0     0       celovečernom\n953           0     0              filme\n954           0     0                Don\n955           0     0                  ’\n956           0     0                  t\n957           0     0               Stop\n958           0     0                  .\n959           0     0           __None__\n960           0     0           __None__\n961           0     0           __None__\n962           0     0           __None__\n963           0     0              Tieto\n964           0     0              voľby\n965           0     1           neberiem\n966           0     0                ako\n967           0     0            preteky\n968           0     0                  ,\n969           0     0              vážim\n970           0     0                 si\n971           0     0            každého\n972           0     0            človeka\n973           0     0                  a\n974           0     0                ten\n975           0     0                  ,\n976           0     0                kto\n977           0     0               chce\n978           0     0             urobiť\n979           0     0              niečo\n980           0     0                 aj\n981           0     0                pre\n982           0     0          ostatných\n983           0     0                  ,\n984           0     0               musí\n985           0     0                byť\n986           0     0                 aj\n987           0     0               dosť\n988           0     0              silný\n989           0     0                  ,\n990           0     0               lebo\n991           0     0                  ,\n992           0     0             môžete\n993           0     0                 mi\n994           0     0              veriť\n995           0     0                  ,\n996           0     1                nie\n997           0     1                 je\n998           0     0                 to\n999           0     0              ľahké\n1000          0     0        rozhodnutie\n1001          0     0                  .\n1002          0     0           __None__\n1003          0     0           __None__\n1004          0     0           __None__\n1005          0     0           __None__\n1006          0     0                  „\n1007          0     0                 Aj\n1008          0     0                keď\n1009          0     0                sme\n1010          0     0               mali\n1011          0     0             vopred\n1012          0     0          dohodnuté\n1013          0     0                ako\n1014          0     0           náhradné\n1015          0     0            ihrisko\n1016          0     0                 aj\n1017          0     0                  v\n1018          0     0        Diakovciach\n1019          0     0                  a\n1020          0     0            Hájskom\n1021          0     0                  ,\n1022          0     0           Diakovce\n1023          0     0                nám\n1024          0     0                 už\n1025          0     0              okolo\n1026          0     0            štvrtej\n1027          0     0          avizovali\n1028          0     0                 že\n1029          0     0                  u\n1030          0     0               nich\n1031          0     0                 sa\n1032          0     0               hrať\n1033          1     1             nebude\n1034          0     0               môcť\n1035          0     0                  ,\n1036          0     0               lebo\n1037          0     0                 už\n1038          0     0              stojí\n1039          0     0               voda\n1040          0     0                 na\n1041          0     0            ihrisku\n1042          0     0                  .\n1043          0     0           __None__\n1044          0     0           __None__\n1045          0     0           __None__\n1046          0     0           __None__\n1047          0     0                Pán\n1048          0     0           poslanec\n1049          0     0           Jarjabek\n1050          0     0                 si\n1051          0     1          nesprávne\n1052          0     0          zapamätal\n1053          0     0               moje\n1054          0     0         vyjadrenie\n1055          0     0              počas\n1056          0     0               jeho\n1057          0     0           návštevy\n1058          0     0                 na\n1059          0     0               pôde\n1060          0     0        Slovenského\n1061          0     0           rozhlasu\n1062          0     0                  .\n1063          0     0           __None__\n1064          0     0           __None__\n1065          0     0           __None__\n1066          0     0           __None__\n1067          0     0             Košice\n1068          0     0                  -\n1069          0     0                Ani\n1070          0     0       dvadsaťštyri\n1071          0     0              hodín\n1072          0     1          nestrávil\n1073          0     0                  v\n1074          0     0           košickej\n1075          0     0          nemocnici\n1076          0     0           americký\n1077          0     0              herec\n1078          0     0               Owen\n1079          0     0             Wilson\n1080          0     0                  ,\n1081          0     0            ktorého\n1082          0     0          priviezli\n1083          0     0                 vo\n1084          0     0            štvrtok\n1085          0     0           podvečer\n1086          0     0                 do\n1087          0     0          Fakultnej\n1088          0     0          nemocnice\n1089          0     0                  L\n1090          0     0                  .\n1091          0     0           __None__\n1092          0     0           __None__\n1093          0     0           __None__\n1094          0     0           __None__\n1095          0     1       Neprekvapuje\n1096          0     0                  ,\n1097          0     0                 že\n1098          0     0             proces\n1099          0     0        dosiahnutia\n1100          0     0         súdržnosti\n1101          0     0            zostáva\n1102          0     1        nekompletný\n1103          0     0                  v\n1104          0     0           dôsledku\n1105          0     0         konvenčnej\n1106          0     0          adaptácie\n1107          0     0                 na\n1108          0     0              výzvy\n1109          0     0        ekonomickej\n1110          0     0       globalizácie\n1111          0     0                  ,\n1112          0     0         fiškálnych\n1113          0     0          úsporných\n1114          0     0           opatrení\n1115          0     0                  ,\n1116          0     0          rodinných\n1117          0     0                  a\n1118          0     0           rodových\n1119          0     0              zmien\n1120          0     0                  ,\n1121          0     1       nepriaznivej\n1122          0     0         demografie\n1123          0     0                  a\n1124          0     0          meniacich\n1125          0     0                 sa\n1126          0     0        politických\n1127          0     0           rozporov\n1128          0     0                  .\n1129          0     0           __None__\n1130          0     0           __None__\n1131          0     0           __None__\n1132          0     0           __None__\n1133          0     0           Následné\n1134          0     0            početné\n1135          0     0             výhody\n1136          0     0                  o\n1137          0     0            jedného\n1138          0     0              hráča\n1139          0     0             žiadny\n1140          0     0                  z\n1141          0     0              tímov\n1142          0     1           nevyužil\n1143          0     0                  .\n1144          0     0           __None__\n1145          0     0           __None__\n1146          0     0           __None__\n1147          0     0           __None__\n1148          0     0                 My\n1149          0     0                 sa\n1150          0     0               zimy\n1151          0     1           nebojíme\n1152          0     0                  ,\n1153          0     1             nemáme\n1154          0     0                  z\n1155          0     0                nej\n1156          0     0             strach\n1157          0     0                  .\n1158          0     0           __None__\n1159          0     0           __None__\n1160          0     0           __None__\n1161          0     0           __None__\n1162          0     1                Nie\n1163          0     1                 sú\n1164          0     0            veľkými\n1165          0     0          fanúšikmi\n1166          0     0             športu\n1167          0     0                  .\n1168          0     0           __None__\n1169          0     0           __None__\n1170          0     0           __None__\n1171          0     0           __None__\n1172          0     0              Svoju\n1173          0     0               vinu\n1174          0     0                 za\n1175          0     0              tieto\n1176          0     0               činy\n1177          0     0              nikdy\n1178          1     1          nepriznal\n1179          0     0                  ,\n1180          0     0            políciu\n1181          0     0            obvinil\n1182          0     0                  z\n1183          0     0   vykonštruovaného\n1184          0     0            procesu\n1185          0     0                  a\n1186          0     0                súd\n1187          0     0                  z\n1188          0     0      predpojatosti\n1189          0     0                  .\n1190          0     0           __None__\n1191          0     0           __None__\n1192          0     0           __None__\n1193          0     0           __None__\n1194          0     0              Voľba\n1195          0     0               však\n1196          1     1             nemôže\n1197          0     0                byť\n1198          0     0        spochybnená\n1199          0     0                ani\n1200          0     0                  v\n1201          0     0            prípade\n1202          0     0            simonie\n1203          0     0                  .\n1204          0     0           __None__\n1205          0     0           __None__\n1206          0     0           __None__\n1207          0     0           __None__\n1208          0     0                Die\n1209          0     0             Presse\n1210          0     0                 sa\n1211          0     0           domnieva\n1212          0     0                  ,\n1213          0     0                 že\n1214          0     0                  v\n1215          0     0             cirkvi\n1216          0     0                 sa\n1217          0     0                nič\n1218          1     1             nehýbe\n1219          0     0                  ,\n1220          0     0             naopak\n1221          0     0                der\n1222          0     0           Standard\n1223          0     0                 si\n1224          0     0              myslí\n1225          0     0                  ,\n1226          0     0                 že\n1227          0     0             cirkev\n1228          0     0                 sa\n1229          0     0             predsa\n1230          0     0                len\n1231          0     0               hýbe\n1232          0     0                  .\n1233          0     0           __None__\n1234          0     0           __None__\n1235          0     0           __None__\n1236          0     0           __None__\n1237          0     0                 Je\n1238          0     0                 to\n1239          0     0                ako\n1240          0     0          lakmusový\n1241          0     0             papier\n1242          0     0                  ,\n1243          0     0              ktorý\n1244          0     0              ukáže\n1245          0     0                  ,\n1246          0     0                 či\n1247          0     0             človek\n1248          0     0                pil\n1249          0     0              alebo\n1250          0     1              nepil\n1251          0     0                  .\n1252          0     0           __None__\n1253          0     0           __None__\n1254          0     0           __None__\n1255          0     0           __None__\n1256          0     0             Bayrou\n1257          0     0                  ,\n1258          0     0              ktorý\n1259          0     1    nezanedbateľným\n1260          0     0           spôsobom\n1261          0     0          ovplyvnil\n1262          0     0           výsledok\n1263          0     0             volieb\n1264          0     0                  ,\n1265          0     0                 si\n1266          0     0                len\n1267          0     0                pár\n1268          0     0           mesiacov\n1269          0     0               pred\n1270          0     0         dôležitými\n1271          0     0       parlamentným\n1272          0     0            voľbami\n1273          0     1             nemôže\n1274          0     0            dovoliť\n1275          0     0           vyjadriť\n1276          0     0            hlasitú\n1277          0     0            podporu\n1278          0     0                ani\n1279          0     0             jednej\n1280          0     0             strane\n1281          0     0                  .\n1282          0     0           __None__\n1283          0     0           __None__\n1284          0     0           __None__\n1285          0     0           __None__\n1286          0     0                 Na\n1287          0     0            rozdiel\n1288          0     0                 od\n1289          0     0         Descartesa\n1290          0     0              ďalší\n1291          0     0           významný\n1292          0     0       racionalista\n1293          0     0           novoveku\n1294          0     0                  ,\n1295          0     0          holandský\n1296          0     0           mysliteľ\n1297          0     0             Baruch\n1298          0     0            Spinoza\n1299          0     1         necestoval\n1300          0     0             takmer\n1301          0     0              vôbec\n1302          0     0                  .\n1303          0     0           __None__\n1304          0     0           __None__\n1305          0     0           __None__\n1306          0     0           __None__\n1307          0     0                Ale\n1308          0     0                 to\n1309          0     1             nebola\n1310          0     0                jej\n1311          0     0            starosť\n1312          0     0                  .\n1313          0     0           __None__\n1314          0     0           __None__\n1315          0     0           __None__\n1316          0     0           __None__\n1317          0     0                  \"\n1318          0     0               Boli\n1319          0     0                sme\n1320          0     0            povinní\n1321          0     0       zabezpečovať\n1322          0     0            hranicu\n1323          0     0              týmto\n1324          0     0           spôsobom\n1325          0     0                 už\n1326          0     0               pred\n1327          0     0             štyrmi\n1328          0     0              rokmi\n1329          0     0                  ,\n1330          0     0                len\n1331          0     0                sme\n1332          0     0                 to\n1333          0     1           nerobili\n1334          0     0                  ,\n1335          0     0                  \"\n1336          0     0          vysvetlil\n1337          0     0           minister\n1338          0     0             vnútra\n1339          0     0             Robert\n1340          0     0            Kaliňák\n1341          0     0                  s\n1342          0     0                tým\n1343          0     0                  ,\n1344          0     0                 že\n1345          0     0                 aj\n1346          0     0               toto\n1347          0     0                bol\n1348          0     0              jeden\n1349          0     0                  z\n1350          0     0        nedostatkov\n1351          0     0                  ,\n1352          0     0              ktoré\n1353          0     0                 EÚ\n1354          0     0          Slovensku\n1355          0     0           vyčítala\n1356          0     0                  .\n1357          0     0           __None__\n1358          0     0           __None__\n1359          0     0           __None__\n1360          0     0           __None__\n1361          0     0              Potom\n1362          0     0           spustila\n1363          0     0               pani\n1364          0     0           Mutchová\n1365          0     0                  ,\n1366          0     0                 to\n1367          0     0               veru\n1368          0     0                nik\n1369          1     1            nečakal\n1370          0     0                  ,\n1371          0     0              národ\n1372          0     0                 sa\n1373          0     0                 aj\n1374          0     0            uškŕňal\n1375          0     0                  ,\n1376          0     0                ale\n1377          0     0               hlas\n1378          0     0               mala\n1379          0     0              dobrý\n1380          0     0                  ,\n1381          0     0              možno\n1382          0     0              lepší\n1383          0     0                ako\n1384          0     0            väčšina\n1385          0     0                  ,\n1386          0     0                  a\n1387          0     0           spievala\n1388          0     0              Pekný\n1389          0     0                dom\n1390          0     0                  v\n1391          0     0             Airlie\n1392          0     0                  ,\n1393          0     0                  a\n1394          0     0               ešte\n1395          0     0              Starý\n1396          0     0              Robin\n1397          0     0               Gray\n1398          0     0                  ,\n1399          0     0              Chris\n1400          0     0                 sa\n1401          0     0              skoro\n1402          1     0         rozplakala\n1403          0     0                  ,\n1404          0     0                  a\n1405          0     0               veru\n1406          0     0             nielen\n1407          0     0                ona\n1408          0     0               mala\n1409          0     0               slzy\n1410          0     0                 na\n1411          0     0           krajíčku\n1412          0     0                  ,\n1413          0     0                keď\n1414          0     0             Robove\n1415          0     0              husle\n1416          0     0            plakali\n1417          0     0                  o\n1418          0     0             smútku\n1419          0     0                  a\n1420          0     0            bolesti\n1421          0     0                  ,\n1422          0     0               hoci\n1423          0     0                 sa\n1424          0     0                 to\n1425          0     0              stalo\n1426          0     0              dávno\n1427          0     0                  ,\n1428          0     0           pradávno\n1429          0     0                  .\n1430          0     0           __None__\n1431          0     0           __None__\n1432          0     0           __None__\n1433          0     0           __None__\n1434          0     0               Pred\n1435          0     0            piatimi\n1436          0     0              rokmi\n1437          0     0                dal\n1438          0     0    banskobystrický\n1439          0     0             biskup\n1440          0     0             Rudolf\n1441          0     0              Baláž\n1442          0     0                KDH\n1443          0     0                 na\n1444          0     0           zváženie\n1445          0     0                  ,\n1446          0     0                 či\n1447          0     0                 by\n1448          1     1              nebol\n1449          0     0              lepší\n1450          0     0           kandidát\n1451          0     0                 na\n1452          0     0         prezidenta\n1453          0     0                Ján\n1454          0     0              Figeľ\n1455          0     0                  .\n1456          0     0           __None__\n1457          0     0           __None__\n1458          0     0           __None__\n1459          0     0           __None__\n1460          0     0                  „\n1461          0     0          Správanie\n1462          0     0           kapitána\n1463          0     0                  a\n1464          0     0              časti\n1465          0     0            posádky\n1466          0     0               bolo\n1467          0     1               mimo\n1468          0     0           chápania\n1469          0     0                  a\n1470          1     1             nebolo\n1471          0     0             lepšie\n1472          0     0                ako\n1473          0     0             vražda\n1474          0     0                  ,\n1475          0     0                  “\n1476          0     0           povedala\n1477          0     0              podľa\n1478          0     0            mnohých\n1479          0     1     neprezidentsky\n1480          0     0                  .\n1481          0     0           __None__\n1482          0     0           __None__\n1483          0     0           __None__\n1484          0     0           __None__\n1485          0     0           Opozičný\n1486          0     0               Smer\n1487          0     1          nevylúčil\n1488          0     0                  ,\n1489          0     0                 že\n1490          0     0            podporí\n1491          0     0              návrh\n1492          0     0                KDH\n1493          0     0                 na\n1494          0     0           zníženie\n1495          0     0       poslaneckých\n1496          0     0             platov\n1497          0     0                  .\n1498          0     0           __None__\n1499          0     0           __None__\n1500          0     0           __None__\n1501          0     0           __None__\n1502          0     0                Ako\n1503          0     0                sme\n1504          0     0                 sa\n1505          0     0          dozvedeli\n1506          0     0                 od\n1507          0     0         riaditeľky\n1508          0     0                 DD\n1509          0     0                  a\n1510          0     0                DSS\n1511          0     0                Evy\n1512          0     0          Larišovej\n1513          0     0                  ,\n1514          0     0                  v\n1515          0     0          zariadení\n1516          0     0          poskytujú\n1517          0     0         nevyhnutnú\n1518          0     0      starostlivosť\n1519          0     0                  ,\n1520          0     0             ktorou\n1521          0     0                 je\n1522          0     0        stravovanie\n1523          0     0                  ,\n1524          0     0            bývanie\n1525          0     0                  ,\n1526          0     0        zaopatrenie\n1527          0     0                  ,\n1528          0     0                ako\n1529          0     0                  i\n1530          0     0             ďalšie\n1531          0     0           činnosti\n1532          0     0                  ,\n1533          0     0                ako\n1534          0     0                 je\n1535          0     0           sociálne\n1536          0     0        poradenstvo\n1537          0     0                  ,\n1538          0     0           záujmová\n1539          0     0            činnosť\n1540          0     0                  ,\n1541          0     0           kultúrna\n1542          0     0            činnosť\n1543          0     0                  ,\n1544          0     0          relaxačná\n1545          0     0                  a\n1546          0     0      rehabilitačná\n1547          0     0            činnosť\n1548          0     0                  .\n1549          0     0           __None__\n1550          0     0           __None__\n1551          0     0           __None__\n1552          0     0           __None__\n1553          0     0              Vďaka\n1554          0     0             tomuto\n1555          0     0           poznaniu\n1556          0     0                 sa\n1557          0     0           podarilo\n1558          0     0         Popovicimu\n1559          0     0            nazrieť\n1560          0     0                 do\n1561          0     0              samej\n1562          0     0           podstaty\n1563          0     0           jednania\n1564          0     0                  a\n1565          0     0             osudov\n1566          0     0          buržoázie\n1567          0     0                  ,\n1568          0     0              ktoré\n1569          0     1              okrem\n1570          0     0               toho\n1571          0     0                  ,\n1572          0     0                 že\n1573          0     0                 sú\n1574          0     0         egoistické\n1575          0     0                  a\n1576          0     0               vedú\n1577          0     0                 ku\n1578          0     0           krutosti\n1579          0     0                  ,\n1580          0     0                 sú\n1581          0     0                 aj\n1582          0     0             klamné\n1583          0     0                  a\n1584          0     0       tragikomické\n1585          0     0                  .\n1586          0     0           __None__\n1587          0     0           __None__\n1588          0     0           __None__\n1589          0     0           __None__\n1590          0     0                Tie\n1591          0     0            napokon\n1592          0     1             neboli\n1593          0     0                pre\n1594          0     0           Slobodné\n1595          0     0              fórum\n1596          0     0         povzbudivé\n1597          0     0                  –\n1598          0     0                  3\n1599          0     0                  ,\n1600          0     0                 47\n1601          0     0           percenta\n1602          0     0                 je\n1603          0     0                 na\n1604          0     0              vstup\n1605          0     0                 do\n1606          0     0         parlamentu\n1607          0     0             príliš\n1608          0     0               málo\n1609          0     0                  .\n1610          0     0           __None__\n1611          0     0           __None__\n1612          0     0           __None__\n1613          0     0           __None__\n1614          0     0                 Je\n1615          0     0         zarážajúce\n1616          0     0                  ,\n1617          0     0                 že\n1618          0     0               štát\n1619          0     0                  o\n1620          0     0              trase\n1621          0     0           ropovodu\n1622          0     1            nevedie\n1623          0     0                  s\n1624          0     0        verejnosťou\n1625          0     0           otvorený\n1626          0     0             dialóg\n1627          0     0                  .\n1628          0     0           __None__\n1629          0     0           __None__\n1630          0     0           __None__\n1631          0     0           __None__\n1632          0     0             Myslím\n1633          0     0                 si\n1634          0     0                  ,\n1635          0     0                 že\n1636          0     0             jadrom\n1637          0     0             celého\n1638          0     0           problému\n1639          0     1                nie\n1640          0     1                 je\n1641          0     0                 to\n1642          0     0                  ,\n1643          0     0                 či\n1644          0     0             chceme\n1645          0     0              alebo\n1646          0     1           nechceme\n1647          0     0            charitu\n1648          0     0                  ,\n1649          0     0                kto\n1650          0     0                 ju\n1651          0     0               chce\n1652          0     0                  a\n1653          0     0                kto\n1654          0     1                nie\n1655          0     0                  ,\n1656          0     0                ale\n1657          0     0                 to\n1658          0     0                  ,\n1659          0     0                 či\n1660          0     0                 sa\n1661          0     0                  s\n1662          0     0                ňou\n1663          0     0                  v\n1664          0     0            procese\n1665          0     0           prípravy\n1666          0     0   územnoplánovacej\n1667          0     0       dokumentácie\n1668          0     0             rátalo\n1669          0     0                  ,\n1670          0     0                 či\n1671          0     0                 sa\n1672          0     0                pre\n1673          0     0                 ňu\n1674          0     0          vytvorili\n1675          0     0           potrebné\n1676          0     0          kapacitné\n1677          0     0                  ,\n1678          0     0           dopravné\n1679          0     0                  a\n1680          0     0            ostatné\n1681          0     0          podmienky\n1682          0     0                  a\n1683          0     0                 či\n1684          0     0         realizácia\n1685          0     0       jednotlivých\n1686          0     0            stavieb\n1687          0     0          akceptuje\n1688          0     0              bežné\n1689          0     0          zvyklosti\n1690          0     0                  v\n1691          0     0              tomto\n1692          0     0            procese\n1693          0     0                tak\n1694          0     0                  ,\n1695          0     0                ako\n1696          0     0                ich\n1697          0     0             určuje\n1698          0     0           stavebný\n1699          0     0              zákon\n1700          0     0                  .\n1701          0     0           __None__\n1702          0     0           __None__\n1703          0     0           __None__\n1704          0     0           __None__\n1705          0     0                Keď\n1706          0     0           dozvonia\n1707          0     0              zvony\n1708          0     0                  ,\n1709          0     0            stíchnu\n1710          0     0              salvy\n1711          0     0                  ,\n1712          0     0             zmĺknu\n1713          0     0            speváci\n1714          0     0                  :\n1715          0     0                keď\n1716          0     0                 je\n1717          0     0             koniec\n1718          0     0            sviatku\n1719          0     0                  ,\n1720          0     0       každodennosť\n1721          0     0            zhasína\n1722          0     0              krásu\n1723          0     0                ako\n1724          0     0             súmrak\n1725          0     0              slnko\n1726          0     0                  :\n1727          0     0             môžeme\n1728          0     0                 sa\n1729          0     0              oddať\n1730          0     0               tomu\n1731          0     0                  ,\n1732          0     0                 čo\n1733          0     0                 sa\n1734          0     1        nevyslovuje\n1735          0     0                  ,\n1736          0     0                 čo\n1737          0     0                 sa\n1738          0     1         nepremieňa\n1739          0     0                 na\n1740          0     0        dekoratívne\n1741          0     0              formy\n1742          0     0                  .\n"
     ]
    }
   ],
   "source": [
    "def print_full(x):\n",
    "    pd.set_option('display.max_rows', len(x))\n",
    "    print(x)\n",
    "    pd.reset_option('display.max_rows')\n",
    "\n",
    "\n",
    "df = pd.DataFrame({'true': y_true, 'predicted': y_pred})\n",
    "df['token'] = df_test.token\n",
    "print_full(df)"
   ]
  },
  {
   "cell_type": "markdown",
   "metadata": {},
   "source": [
    "## Metrics"
   ]
  },
  {
   "cell_type": "code",
   "execution_count": 31,
   "metadata": {},
   "outputs": [
    {
     "name": "stdout",
     "output_type": "stream",
     "text": [
      "Accuracy: 0.9615605278255881\nPrecision: 0.9090909090909091\nRecall: 0.13157894736842105\nF1 score: 0.22988505747126434\n             precision    recall  f1-score   support\n\n          0       0.96      1.00      0.98      1667\n          1       0.91      0.13      0.23        76\n\navg / total       0.96      0.96      0.95      1743\n\n"
     ]
    }
   ],
   "source": [
    "from sklearn import metrics\n",
    "\n",
    "y_pred = model.predict(df2_test)\n",
    "y_true = df_test.is_negation\n",
    "\n",
    "print('Accuracy: {}'.format(metrics.accuracy_score(y_true, y_pred)))\n",
    "print('Precision: {}'.format(metrics.precision_score(y_true, y_pred)))\n",
    "print('Recall: {}'.format(metrics.recall_score(y_true, y_pred)))\n",
    "print('F1 score: {}'.format(metrics.f1_score(y_true, y_pred)))\n",
    "\n",
    "print(metrics.classification_report(y_true, y_pred))"
   ]
  },
  {
   "cell_type": "code",
   "execution_count": 32,
   "metadata": {},
   "outputs": [
    {
     "data": {
      "image/png": "[encoded data removed]",
      "text/plain": [
       "<matplotlib.figure.Figure at 0x26addad68>"
      ]
     },
     "metadata": {},
     "output_type": "display_data"
    }
   ],
   "source": [
    "import matplotlib.pyplot as plt\n",
    "\n",
    "fpr, tpr, threshold = metrics.roc_curve(y_true, y_pred)\n",
    "roc_auc = metrics.auc(fpr, tpr)\n",
    "\n",
    "plt.title('Receiver Operating Characteristic')\n",
    "plt.plot(fpr, tpr, 'b', label='AUC = %0.2f' % roc_auc)\n",
    "plt.legend(loc='lower right')\n",
    "plt.plot([0, 1], [0, 1], 'r--')\n",
    "plt.xlim([0, 1])\n",
    "plt.ylim([0, 1])\n",
    "plt.ylabel('True Positive Rate')\n",
    "plt.xlabel('False Positive Rate')\n",
    "plt.show()"
   ]
  },
  {
   "cell_type": "code",
   "execution_count": 29,
   "metadata": {},
   "outputs": [
    {
     "name": "stderr",
     "output_type": "stream",
     "text": [
      "/Users/jozefg/.virtualenvs/neg/lib/python3.5/site-packages/sklearn/naive_bayes.py:699: RuntimeWarning: divide by zero encountered in log\n  self.feature_log_prob_ = (np.log(smoothed_fc) -\n"
     ]
    },
    {
     "name": "stderr",
     "output_type": "stream",
     "text": [
      "/Users/jozefg/.virtualenvs/neg/lib/python3.5/site-packages/sklearn/naive_bayes.py:699: RuntimeWarning: divide by zero encountered in log\n  self.feature_log_prob_ = (np.log(smoothed_fc) -\n"
     ]
    },
    {
     "name": "stderr",
     "output_type": "stream",
     "text": [
      "/Users/jozefg/.virtualenvs/neg/lib/python3.5/site-packages/sklearn/naive_bayes.py:699: RuntimeWarning: divide by zero encountered in log\n  self.feature_log_prob_ = (np.log(smoothed_fc) -\n"
     ]
    },
    {
     "name": "stdout",
     "output_type": "stream",
     "text": [
      "GridSearchCV(cv=None, error_score='raise',\n       estimator=MultinomialNB(alpha=1.0, class_prior=None, fit_prior=True),\n       fit_params={}, iid=True, n_jobs=1,\n       param_grid={'alpha': array([  1.00000e+00,   1.00000e-01,   1.00000e-02,   1.00000e-03,\n         1.00000e-04,   0.00000e+00])},\n       pre_dispatch='2*n_jobs', refit=True, return_train_score=True,\n       scoring=None, verbose=0)\n0.957593123209\n1.0\n"
     ]
    }
   ],
   "source": [
    "# Grid Search for Algorithm Tuning\n",
    "from sklearn.model_selection import GridSearchCV\n",
    "# prepare a range of alpha values to test\n",
    "alphas = np.array([1, 0.1, 0.01, 0.001, 0.0001, 0])\n",
    "# create and fit a ridge regression model, testing each alpha\n",
    "model = MultinomialNB()\n",
    "grid = GridSearchCV(estimator=model, param_grid=dict(alpha=alphas))\n",
    "grid.fit(df2_train, df_train.is_negation)\n",
    "print(grid)\n",
    "# summarize the results of the grid search\n",
    "print(grid.best_score_)\n",
    "print(grid.best_estimator_.alpha)"
   ]
  },
  {
   "cell_type": "markdown",
   "metadata": {},
   "source": [
    "## Playground"
   ]
  },
  {
   "cell_type": "code",
   "execution_count": 53,
   "metadata": {
    "collapsed": false,
    "deletable": true,
    "editable": true
   },
   "outputs": [
    {
     "data": {
      "text/plain": [
       "array([0, 0, 0, ..., 0, 0, 0])"
      ]
     },
     "execution_count": 53,
     "metadata": {},
     "output_type": "execute_result"
    }
   ],
   "source": [
    "y_train[5]\n",
    "new[5]"
   ]
  },
  {
   "cell_type": "code",
   "execution_count": 56,
   "metadata": {
    "collapsed": false,
    "deletable": true,
    "editable": true
   },
   "outputs": [
    {
     "name": "stdout",
     "output_type": "stream",
     "text": [
      "[0]\n"
     ]
    }
   ],
   "source": [
    "#Predict Output \n",
    "predicted = model.predict([new[2]])\n",
    "print(predicted)"
   ]
  },
  {
   "cell_type": "code",
   "execution_count": 87,
   "metadata": {},
   "outputs": [
    {
     "name": "stdout",
     "output_type": "stream",
     "text": [
      "6.6219878520059865\n"
     ]
    },
    {
     "name": "stdout",
     "output_type": "stream",
     "text": [
      "6.410430869989796\n"
     ]
    }
   ],
   "source": [
    "from itertools import chain\n",
    "from timeit import timeit\n",
    "\n",
    "\n",
    "def bla1():\n",
    "    c = chain(\n",
    "        add_prefix(\"word1\", lemma_feat_names), \n",
    "        add_prefix(\"word2\", lemma_feat_names), \n",
    "        add_prefix(\"word3\", lemma_feat_names), \n",
    "        add_prefix(\"word4\", lemma_feat_names),\n",
    "        add_prefix(\"word5\", lemma_feat_names),\n",
    "    )\n",
    "    return list(c)\n",
    "\n",
    "\n",
    "def bla2():\n",
    "    return list(add_prefix(\"word1\", lemma_feat_names)) + \\\n",
    "           list(add_prefix(\"word2\", lemma_feat_names)) + \\\n",
    "           list(add_prefix(\"word3\", lemma_feat_names)) + \\\n",
    "           list(add_prefix(\"word4\", lemma_feat_names)) + \\\n",
    "           list(add_prefix(\"word5\", lemma_feat_names))\n",
    "\n",
    "\n",
    "print(timeit('bla1()', globals=globals(), number=1000))\n",
    "print(timeit('bla2()', globals=globals(), number=1000))"
   ]
  }
 ],
 "metadata": {
  "anaconda-cloud": {},
  "kernelspec": {
   "display_name": "Python 3",
   "language": "python",
   "name": "python3"
  },
  "language_info": {
   "codemirror_mode": {
    "name": "ipython",
    "version": 3.0
   },
   "file_extension": ".py",
   "mimetype": "text/x-python",
   "name": "python",
   "nbconvert_exporter": "python",
   "pygments_lexer": "ipython3",
   "version": "3.6.0"
  }
 },
 "nbformat": 4,
 "nbformat_minor": 0
}