{
 "cells": [
  {
   "cell_type": "markdown",
   "metadata": {
    "deletable": true,
    "editable": true
   },
   "source": [
    "# Negation signal - with bag of words\n",
    "## Loading dataset"
   ]
  },
  {
   "cell_type": "code",
   "execution_count": 18,
   "metadata": {},
   "outputs": [
    {
     "name": "stdout",
     "output_type": "stream",
     "text": [
      "2017-05-02 13:16:28 START Creating features list dataset/beletria/merged.xml\nSTART Creating semidataset dataset/beletria/merged.xml\nEND Creating semidataset dataset/beletria/merged.xml\n2017-05-02 13:16:28 START Creating features list dataset/beletria/merged.xml\n"
     ]
    },
    {
     "name": "stdout",
     "output_type": "stream",
     "text": [
      "2017-05-02 13:18:22 START Save csv dataset/beletria/merged.xml\n"
     ]
    },
    {
     "name": "stdout",
     "output_type": "stream",
     "text": [
      "2017-05-02 13:19:54 START Save csv dataset/beletria/merged.xml\n"
     ]
    },
    {
     "name": "stdout",
     "output_type": "stream",
     "text": [
      "2017-05-02 13:19:56 START Creating features list dataset/recenzie/merged.xml\nSTART Creating semidataset dataset/recenzie/merged.xml\n"
     ]
    },
    {
     "name": "stdout",
     "output_type": "stream",
     "text": [
      "END Creating semidataset dataset/recenzie/merged.xml\n2017-05-02 13:20:00 START Creating features list dataset/recenzie/merged.xml\n"
     ]
    },
    {
     "name": "stdout",
     "output_type": "stream",
     "text": [
      "2017-05-02 13:22:28 START Save csv dataset/recenzie/merged.xml\n"
     ]
    },
    {
     "name": "stdout",
     "output_type": "stream",
     "text": [
      "2017-05-02 13:24:05 START Save csv dataset/recenzie/merged.xml\n2017-05-02 13:24:07 START Creating features list dataset/snk/merged.xml\nSTART Creating semidataset dataset/snk/merged.xml\nEND Creating semidataset dataset/snk/merged.xml\n2017-05-02 13:24:07 START Creating features list dataset/snk/merged.xml\n"
     ]
    },
    {
     "name": "stdout",
     "output_type": "stream",
     "text": [
      "2017-05-02 13:24:58 START Save csv dataset/snk/merged.xml\n"
     ]
    },
    {
     "name": "stdout",
     "output_type": "stream",
     "text": [
      "2017-05-02 13:25:38 START Save csv dataset/snk/merged.xml\n2017-05-02 13:25:39 START Creating features list dataset/sport/merged.xml\nSTART Creating semidataset dataset/sport/merged.xml\n"
     ]
    },
    {
     "name": "stdout",
     "output_type": "stream",
     "text": [
      "END Creating semidataset dataset/sport/merged.xml\n2017-05-02 13:25:39 START Creating features list dataset/sport/merged.xml\n"
     ]
    },
    {
     "name": "stdout",
     "output_type": "stream",
     "text": [
      "2017-05-02 13:29:06 START Save csv dataset/sport/merged.xml\n"
     ]
    },
    {
     "name": "stdout",
     "output_type": "stream",
     "text": [
      "2017-05-02 13:32:58 START Save csv dataset/sport/merged.xml\n2017-05-02 13:33:02 START Creating features list dataset/vlastne_mario/merged.xml\nSTART Creating semidataset dataset/vlastne_mario/merged.xml\n"
     ]
    },
    {
     "name": "stdout",
     "output_type": "stream",
     "text": [
      "END Creating semidataset dataset/vlastne_mario/merged.xml\n2017-05-02 13:33:03 START Creating features list dataset/vlastne_mario/merged.xml\n"
     ]
    },
    {
     "name": "stdout",
     "output_type": "stream",
     "text": [
      "2017-05-02 13:33:06 START Save csv dataset/vlastne_mario/merged.xml\n"
     ]
    },
    {
     "name": "stdout",
     "output_type": "stream",
     "text": [
      "2017-05-02 13:33:07 START Save csv dataset/vlastne_mario/merged.xml\n"
     ]
    }
   ],
   "source": [
    "from datetime import datetime\n",
    "from negation_signal_common import create_semi_dataset, create_vectorizer, create_columns_names\n",
    "from negation_signal_common import create_features_list, save_to_csv\n",
    "from utils import get_datasets\n",
    "\n",
    "\n",
    "def create_dataset(dataset, sufix):\n",
    "    ouput_name = '{}.csv'.format(dataset[:-4])\n",
    "    print('{} START Creating semi dataset {}'.format(datetime.now().strftime(\"%Y-%m-%d %H:%M:%S\"), dataset))\n",
    "    X_train, X_test = create_semi_dataset(dataset)\n",
    "    vect_lemma = create_vectorizer(X_train)\n",
    "    column_names = create_columns_names(X_train, vect_lemma, add_bow=True)\n",
    "    print('{} START Creating features list {}'.format(datetime.now().strftime(\"%Y-%m-%d %H:%M:%S\"), dataset))\n",
    "    X_train_features_list = create_features_list(X_train, vect_lemma, add_bow=True)\n",
    "    X_test_features_list = create_features_list(X_test, vect_lemma, add_bow=True)\n",
    "    print('{} START Save csv {}'.format(datetime.now().strftime(\"%Y-%m-%d %H:%M:%S\"), dataset))\n",
    "    save_to_csv(ouput_name + sufix + '-train', column_names, X_train_features_list)\n",
    "    save_to_csv(ouput_name + sufix + '-test', column_names, X_test_features_list)\n",
    "    print('{} START Save csv {}'.format(datetime.now().strftime(\"%Y-%m-%d %H:%M:%S\"), dataset))\n",
    "\n",
    "\n",
    "for dataset in get_datasets():\n",
    "    create_dataset(dataset, '-sig-bow')"
   ]
  },
  {
   "cell_type": "markdown",
   "metadata": {
    "deletable": true,
    "editable": true
   },
   "source": [
    "## Training"
   ]
  },
  {
   "cell_type": "code",
   "execution_count": 6,
   "metadata": {},
   "outputs": [
    {
     "name": "stdout",
     "output_type": "stream",
     "text": [
      "CPU times: user 20.2 s, sys: 2.05 s, total: 22.3 s\nWall time: 24.1 s\n"
     ]
    }
   ],
   "source": [
    "%%time\n",
    "import pandas as pd\n",
    "\n",
    "# Load dataset\n",
    "df_train = pd.read_csv('train.csv')\n",
    "df_test = pd.read_csv('test.csv')"
   ]
  },
  {
   "cell_type": "code",
   "execution_count": 15,
   "metadata": {},
   "outputs": [],
   "source": [
    "df2_train = df_train[df_train.columns.difference(['token', 'lemma', 'POS', 'is_negation'])]\n",
    "df2_test = df_test[df_test.columns.difference(['token', 'lemma', 'POS', 'is_negation'])]"
   ]
  },
  {
   "cell_type": "code",
   "execution_count": 30,
   "metadata": {
    "collapsed": false,
    "deletable": true,
    "editable": true
   },
   "outputs": [
    {
     "name": "stdout",
     "output_type": "stream",
     "text": [
      "CPU times: user 3.33 s, sys: 1.24 s, total: 4.57 s\nWall time: 5.39 s\n"
     ]
    }
   ],
   "source": [
    "%%time\n",
    "# Import Library of Gaussian Naive Bayes model\n",
    "from sklearn.naive_bayes import GaussianNB, MultinomialNB, BernoulliNB\n",
    "from sklearn.svm import SVC\n",
    "\n",
    "model = MultinomialNB()\n",
    "# model = GaussianNB(priors=[0.8, 0.2])\n",
    "# model = BernoulliNB()\n",
    "# model = SVC()\n",
    "\n",
    "# Train the model using the training sets \n",
    "model.fit(df2_train, df_train.is_negation)"
   ]
  },
  {
   "cell_type": "markdown",
   "metadata": {},
   "source": [
    "## Metrics"
   ]
  },
  {
   "cell_type": "code",
   "execution_count": 31,
   "metadata": {},
   "outputs": [
    {
     "name": "stdout",
     "output_type": "stream",
     "text": [
      "Accuracy: 0.9615605278255881\nPrecision: 0.9090909090909091\nRecall: 0.13157894736842105\nF1 score: 0.22988505747126434\n             precision    recall  f1-score   support\n\n          0       0.96      1.00      0.98      1667\n          1       0.91      0.13      0.23        76\n\navg / total       0.96      0.96      0.95      1743\n\n"
     ]
    }
   ],
   "source": [
    "from sklearn import metrics\n",
    "\n",
    "y_pred = model.predict(df2_test)\n",
    "y_true = df_test.is_negation\n",
    "\n",
    "print('Accuracy: {}'.format(metrics.accuracy_score(y_true, y_pred)))\n",
    "print('Precision: {}'.format(metrics.precision_score(y_true, y_pred)))\n",
    "print('Recall: {}'.format(metrics.recall_score(y_true, y_pred)))\n",
    "print('F1 score: {}'.format(metrics.f1_score(y_true, y_pred)))\n",
    "\n",
    "print(metrics.classification_report(y_true, y_pred))"
   ]
  },
  {
   "cell_type": "code",
   "execution_count": 32,
   "metadata": {},
   "outputs": [
    {
     "data": {
      "image/png": "[encoded data removed]",
      "text/plain": [
       "<matplotlib.figure.Figure at 0x26addad68>"
      ]
     },
     "metadata": {},
     "output_type": "display_data"
    }
   ],
   "source": [
    "import matplotlib.pyplot as plt\n",
    "\n",
    "fpr, tpr, threshold = metrics.roc_curve(y_true, y_pred)\n",
    "roc_auc = metrics.auc(fpr, tpr)\n",
    "\n",
    "plt.title('Receiver Operating Characteristic')\n",
    "plt.plot(fpr, tpr, 'b', label='AUC = %0.2f' % roc_auc)\n",
    "plt.legend(loc='lower right')\n",
    "plt.plot([0, 1], [0, 1], 'r--')\n",
    "plt.xlim([0, 1])\n",
    "plt.ylim([0, 1])\n",
    "plt.ylabel('True Positive Rate')\n",
    "plt.xlabel('False Positive Rate')\n",
    "plt.show()"
   ]
  },
  {
   "cell_type": "code",
   "execution_count": 29,
   "metadata": {},
   "outputs": [
    {
     "name": "stderr",
     "output_type": "stream",
     "text": [
      "/Users/jozefg/.virtualenvs/neg/lib/python3.5/site-packages/sklearn/naive_bayes.py:699: RuntimeWarning: divide by zero encountered in log\n  self.feature_log_prob_ = (np.log(smoothed_fc) -\n"
     ]
    },
    {
     "name": "stderr",
     "output_type": "stream",
     "text": [
      "/Users/jozefg/.virtualenvs/neg/lib/python3.5/site-packages/sklearn/naive_bayes.py:699: RuntimeWarning: divide by zero encountered in log\n  self.feature_log_prob_ = (np.log(smoothed_fc) -\n"
     ]
    },
    {
     "name": "stderr",
     "output_type": "stream",
     "text": [
      "/Users/jozefg/.virtualenvs/neg/lib/python3.5/site-packages/sklearn/naive_bayes.py:699: RuntimeWarning: divide by zero encountered in log\n  self.feature_log_prob_ = (np.log(smoothed_fc) -\n"
     ]
    },
    {
     "name": "stdout",
     "output_type": "stream",
     "text": [
      "GridSearchCV(cv=None, error_score='raise',\n       estimator=MultinomialNB(alpha=1.0, class_prior=None, fit_prior=True),\n       fit_params={}, iid=True, n_jobs=1,\n       param_grid={'alpha': array([  1.00000e+00,   1.00000e-01,   1.00000e-02,   1.00000e-03,\n         1.00000e-04,   0.00000e+00])},\n       pre_dispatch='2*n_jobs', refit=True, return_train_score=True,\n       scoring=None, verbose=0)\n0.957593123209\n1.0\n"
     ]
    }
   ],
   "source": [
    "# Grid Search for Algorithm Tuning\n",
    "import numpy as np\n",
    "from sklearn.model_selection import GridSearchCV\n",
    "# prepare a range of alpha values to test\n",
    "alphas = np.array([1, 0.1, 0.01, 0.001, 0.0001, 0])\n",
    "# create and fit a ridge regression model, testing each alpha\n",
    "model = MultinomialNB()\n",
    "grid = GridSearchCV(estimator=model, param_grid=dict(alpha=alphas))\n",
    "grid.fit(df2_train, df_train.is_negation)\n",
    "print(grid)\n",
    "# summarize the results of the grid search\n",
    "print(grid.best_score_)\n",
    "print(grid.best_estimator_.alpha)"
   ]
  }
 ],
 "metadata": {
  "anaconda-cloud": {},
  "kernelspec": {
   "display_name": "Python 3",
   "language": "python",
   "name": "python3"
  },
  "language_info": {
   "codemirror_mode": {
    "name": "ipython",
    "version": 3.0
   },
   "file_extension": ".py",
   "mimetype": "text/x-python",
   "name": "python",
   "nbconvert_exporter": "python",
   "pygments_lexer": "ipython3",
   "version": "3.6.0"
  }
 },
 "nbformat": 4,
 "nbformat_minor": 0
}