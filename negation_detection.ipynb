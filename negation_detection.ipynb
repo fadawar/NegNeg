{
 "cells": [
  {
   "cell_type": "markdown",
   "metadata": {
    "deletable": true,
    "editable": true
   },
   "source": [
    "## Loading dataset"
   ]
  },
  {
   "cell_type": "code",
   "execution_count": 1,
   "metadata": {
    "collapsed": false,
    "deletable": true,
    "editable": true
   },
   "outputs": [
    {
     "name": "stdout",
     "output_type": "stream",
     "text": [
      "CPU times: user 348 ms, sys: 81.9 ms, total: 430 ms\nWall time: 577 ms\n"
     ]
    }
   ],
   "source": [
    "%%time\n",
    "import pandas as pd\n",
    "import xml.etree.ElementTree as ET\n",
    "\n",
    "NONE_REPR = '__None__'                     # representation of none word - at the beginning and end of sentence\n",
    "\n",
    "token_list = []\n",
    "lemma_list = []\n",
    "pos_list = []\n",
    "is_negation_list = []\n",
    "\n",
    "\n",
    "def add_nan():\n",
    "    token_list.append(NONE_REPR)\n",
    "    token_list.append(NONE_REPR)\n",
    "    lemma_list.append(NONE_REPR)\n",
    "    lemma_list.append(NONE_REPR)\n",
    "    pos_list.append(NONE_REPR)\n",
    "    pos_list.append(NONE_REPR)\n",
    "    is_negation_list.append(0)\n",
    "    is_negation_list.append(0)\n",
    "\n",
    "\n",
    "root = ET.parse('korpus_scraper/dataset-ne.xml').getroot()\n",
    "\n",
    "for sentence in root:\n",
    "    add_nan()\n",
    "    \n",
    "    for token in sentence:\n",
    "        token_list.append(token.text)\n",
    "        lemma_list.append(token.attrib['lemma'])\n",
    "        pos_list.append(token.attrib['pos'])\n",
    "        is_negation_list.append(int('negator' in token.attrib))\n",
    "    \n",
    "    add_nan()\n",
    "\n",
    "df_start = pd.DataFrame.from_dict({\n",
    "    'token': token_list, \n",
    "    'lemma': lemma_list, \n",
    "    'POS': pos_list, \n",
    "    'is_negation': is_negation_list,\n",
    "})\n",
    "\n",
    "# Split dataset into train and test sets\n",
    "split = 0.75\n",
    "train = df_start[:int(split*len(df_start))]\n",
    "test = df_start[int(split*len(df_start)):]\n",
    "X_train = train[['token', 'lemma', 'POS']]\n",
    "X_test = test[['token', 'lemma', 'POS']]\n",
    "y_train = train.is_negation\n",
    "y_test = test.is_negation"
   ]
  },
  {
   "cell_type": "markdown",
   "metadata": {
    "deletable": true,
    "editable": true
   },
   "source": [
    "## Vectorizing"
   ]
  },
  {
   "cell_type": "code",
   "execution_count": 2,
   "metadata": {},
   "outputs": [],
   "source": [
    "# Prepare sets for features\n",
    "prefix_sk = {'ne', 'bez', 'pa', 'roz', 'proti', 'polo', 'tiež', 'akoby', 'trochu', 'truc', 'mimo', }\n",
    "prefix_int = {'pseudo', 'i', 'in', 'anti', 'kontra', 'a', 'an', 'ex', 'non', 'kvázi', 'hypo', 'de', 'dez', 'ex', \n",
    "              'extra', }\n",
    "particles = {'nie', 'figu', 'drevenú', 'figu', 'borovú', 'jalovú', 'figu', 'šušku', 'šušku', 'borovú', 'čerta', 'čerta', \n",
    "             'starého', 'čerta', 'rohatého', 'čerta', 'pekelného', 'čerta', 'ušatého', 'čerta', 'strapatého', 'paroma', \n",
    "             'paroma', 'starého', 'hroma', 'psiu', 'mater', 'horký', 'horkýtam', 'horkýže', 'horkýžetam', 'aleba', \n",
    "             'ale', 'čo', 'kde', 'kdeže', 'kdeby', 'kdežeby', 'kdežetam', 'kdežebytam', 'čo', 'čože', 'čoby', 'čožeby', \n",
    "             'ešte', 'čo', 'ešteže', 'čo', 'akurát', 'javeru', 'rozhodne', 'rovno', 'aký', 'akýže', 'akéže', }\n",
    "slovak_dict = set(line.strip() for line in open('sk.dic'))\n",
    "\n",
    "\n",
    "def start_with_prefix(word, prefixes):\n",
    "    for p in prefixes:\n",
    "        if word.startswith(p):\n",
    "            return True, p\n",
    "    return False, p\n",
    "\n",
    "\n",
    "def detect_prefixes_and_particles(lemma):\n",
    "    has_sk_prefix, p_sk = start_with_prefix(lemma, prefix_sk)\n",
    "    has_int_prefix, p_int = start_with_prefix(lemma, prefix_int)\n",
    "    is_particle = lemma in particles\n",
    "    if has_sk_prefix:\n",
    "        prefix = p_sk\n",
    "    elif has_int_prefix:\n",
    "        prefix = p_int\n",
    "    else:\n",
    "        prefix = ''\n",
    "    word_without_prefix_exist = lemma[len(prefix):] in slovak_dict\n",
    "    return has_sk_prefix, has_int_prefix, is_particle, word_without_prefix_exist"
   ]
  },
  {
   "cell_type": "code",
   "execution_count": 3,
   "metadata": {
    "collapsed": false,
    "deletable": true,
    "editable": true
   },
   "outputs": [
    {
     "name": "stdout",
     "output_type": "stream",
     "text": [
      "CPU times: user 587 ms, sys: 78.1 ms, total: 666 ms\nWall time: 1.1 s\n"
     ]
    }
   ],
   "source": [
    "%%time\n",
    "# import csv\n",
    "import unicodecsv as csv\n",
    "import numpy as np\n",
    "from sklearn.feature_extraction.text import CountVectorizer\n",
    "from pos_to_features import default_values, process_pos\n",
    "\n",
    "\n",
    "def add_prefix(prefix, iterable):\n",
    "    for item in iterable:\n",
    "        yield prefix + \"_\" + item\n",
    "\n",
    "\n",
    "# learn training data vocabulary, then use it to create a document-term matrix\n",
    "vect_lemma = CountVectorizer()\n",
    "vect_lemma.fit(X_train.lemma)\n",
    "\n",
    "# create list with the names of columns in dataframe\n",
    "lemma_feat_names = list(vect_lemma.get_feature_names())\n",
    "pos_feat_names = list(default_values.keys())\n",
    "column_names = ['has_sk_prefix', 'has_int_prefix', 'is_particle', 'word_without_prefix_exist'] + \\\n",
    "               list(add_prefix('word1', lemma_feat_names)) + \\\n",
    "               list(add_prefix('word2', lemma_feat_names)) + \\\n",
    "               list(add_prefix('word3', lemma_feat_names)) + \\\n",
    "               list(add_prefix('word4', lemma_feat_names)) + \\\n",
    "               list(add_prefix('word5', lemma_feat_names)) + \\\n",
    "               list(add_prefix('word1', pos_feat_names)) + \\\n",
    "               list(add_prefix('word2', pos_feat_names)) + \\\n",
    "               list(add_prefix('word3', pos_feat_names)) + \\\n",
    "               list(add_prefix('word4', pos_feat_names)) + \\\n",
    "               list(add_prefix('word5', pos_feat_names))\n",
    "\n",
    "\n",
    "def create_features_list(dataframe):\n",
    "    feautures_list = []\n",
    "    for index, row in dataframe.iterrows():\n",
    "        if index >= dataframe.iloc[-4].name:\n",
    "            break\n",
    "        # Prefixes + Particles\n",
    "        prefices_and_particles = np.array(detect_prefixes_and_particles(dataframe.loc[index+2]['lemma']))\n",
    "        # LEMMA\n",
    "        dtm_lemma1 = vect_lemma.transform([row['lemma']])\n",
    "        dtm_lemma2 = vect_lemma.transform([dataframe.loc[index+1]['lemma']])\n",
    "        dtm_lemma3 = vect_lemma.transform([dataframe.loc[index+2]['lemma']])\n",
    "        dtm_lemma4 = vect_lemma.transform([dataframe.loc[index+3]['lemma']])\n",
    "        dtm_lemma5 = vect_lemma.transform([dataframe.loc[index+4]['lemma']])\n",
    "        # POS\n",
    "        dtm_pos1 = list(process_pos(row['POS']).values())\n",
    "        dtm_pos2 = list(process_pos(dataframe.loc[index+1]['POS']).values())\n",
    "        dtm_pos3 = list(process_pos(dataframe.loc[index+2]['POS']).values())\n",
    "        dtm_pos4 = list(process_pos(dataframe.loc[index+3]['POS']).values())\n",
    "        dtm_pos5 = list(process_pos(dataframe.loc[index+4]['POS']).values())\n",
    "        all_things = np.concatenate([\n",
    "            prefices_and_particles,\n",
    "            dtm_lemma1.toarray()[0],\n",
    "            dtm_lemma2.toarray()[0],\n",
    "            dtm_lemma3.toarray()[0],\n",
    "            dtm_lemma4.toarray()[0],\n",
    "            dtm_lemma5.toarray()[0],\n",
    "            dtm_pos1,\n",
    "            dtm_pos2,\n",
    "            dtm_pos3,\n",
    "            dtm_pos4,\n",
    "            dtm_pos5,\n",
    "        ])\n",
    "        feautures_list.append(all_things)\n",
    "    return feautures_list\n",
    "\n",
    "\n",
    "def save_to_csv(filename, header_row, feautures_list):\n",
    "    with open(filename, 'wb') as myfile:\n",
    "        wr = csv.writer(myfile, quoting=csv.QUOTE_MINIMAL)\n",
    "        wr.writerow(header_row)\n",
    "        for row in feautures_list:\n",
    "            wr.writerow(row)"
   ]
  },
  {
   "cell_type": "code",
   "execution_count": 4,
   "metadata": {
    "collapsed": false,
    "deletable": true,
    "editable": true
   },
   "outputs": [
    {
     "name": "stdout",
     "output_type": "stream",
     "text": [
      "CPU times: user 4 s, sys: 80.6 ms, total: 4.08 s\nWall time: 4.34 s\n"
     ]
    }
   ],
   "source": [
    "%%time\n",
    "\n",
    "# First we transform data into lists\n",
    "X_train_features_list = create_features_list(X_train)\n",
    "X_test_features_list = create_features_list(X_test)"
   ]
  },
  {
   "cell_type": "code",
   "execution_count": 6,
   "metadata": {
    "collapsed": false,
    "deletable": true,
    "editable": true
   },
   "outputs": [
    {
     "name": "stdout",
     "output_type": "stream",
     "text": [
      "CPU times: user 4.42 s, sys: 98.5 ms, total: 4.52 s\nWall time: 4.8 s\n"
     ]
    }
   ],
   "source": [
    "%%time\n",
    "\n",
    "# Now we save our data to csv files\n",
    "save_to_csv('train.csv', column_names, X_train_features_list)\n",
    "save_to_csv('test.csv', column_names, X_test_features_list)"
   ]
  },
  {
   "cell_type": "markdown",
   "metadata": {
    "deletable": true,
    "editable": true
   },
   "source": [
    "## Training"
   ]
  },
  {
   "cell_type": "code",
   "execution_count": 7,
   "metadata": {},
   "outputs": [
    {
     "name": "stdout",
     "output_type": "stream",
     "text": [
      "CPU times: user 790 ms, sys: 73.3 ms, total: 863 ms\nWall time: 1.14 s\n"
     ]
    }
   ],
   "source": [
    "%%time\n",
    "\n",
    "# Load dataset\n",
    "df_train = pd.DataFrame.from_csv('train.csv')\n",
    "df_test = pd.DataFrame.from_csv('test.csv')"
   ]
  },
  {
   "cell_type": "code",
   "execution_count": 8,
   "metadata": {
    "collapsed": false,
    "deletable": true,
    "editable": true
   },
   "outputs": [
    {
     "name": "stdout",
     "output_type": "stream",
     "text": [
      "CPU times: user 78.6 ms, sys: 25.5 ms, total: 104 ms\nWall time: 109 ms\n"
     ]
    }
   ],
   "source": [
    "%%time\n",
    "# Import Library of Gaussian Naive Bayes model\n",
    "from sklearn.naive_bayes import GaussianNB, MultinomialNB\n",
    "\n",
    "# model = MultinomialNB()\n",
    "model = GaussianNB()\n",
    "\n",
    "# Train the model using the training sets \n",
    "model.fit(df_train, y_train[:-4])"
   ]
  },
  {
   "cell_type": "markdown",
   "metadata": {},
   "source": [
    "## Metrics"
   ]
  },
  {
   "cell_type": "code",
   "execution_count": 9,
   "metadata": {},
   "outputs": [
    {
     "name": "stdout",
     "output_type": "stream",
     "text": [
      "Accuracy: 0.9385113268608414\nPrecision: 0.3333333333333333\nRecall: 0.26666666666666666\nF1 score: 0.2962962962962963\n"
     ]
    }
   ],
   "source": [
    "from sklearn import metrics\n",
    "\n",
    "y_pred_class = model.predict(df_test)\n",
    "\n",
    "print('Accuracy: {}'.format(metrics.accuracy_score(y_test[:-4], y_pred_class)))\n",
    "print('Precision: {}'.format(metrics.precision_score(y_test[:-4], y_pred_class)))\n",
    "print('Recall: {}'.format(metrics.recall_score(y_test[:-4], y_pred_class)))\n",
    "print('F1 score: {}'.format(metrics.f1_score(y_test[:-4], y_pred_class)))"
   ]
  },
  {
   "cell_type": "code",
   "execution_count": 10,
   "metadata": {},
   "outputs": [
    {
     "data": {
      "image/png": "[encoded data removed]",
      "text/plain": [
       "<matplotlib.figure.Figure at 0x10ff27b38>"
      ]
     },
     "metadata": {},
     "output_type": "display_data"
    }
   ],
   "source": [
    "import matplotlib.pyplot as plt\n",
    "\n",
    "fpr, tpr, threshold = metrics.roc_curve(y_test[:-4], y_pred_class)\n",
    "roc_auc = metrics.auc(fpr, tpr)\n",
    "\n",
    "plt.title('Receiver Operating Characteristic')\n",
    "plt.plot(fpr, tpr, 'b', label='AUC = %0.2f' % roc_auc)\n",
    "plt.legend(loc='lower right')\n",
    "plt.plot([0, 1], [0, 1], 'r--')\n",
    "plt.xlim([0, 1])\n",
    "plt.ylim([0, 1])\n",
    "plt.ylabel('True Positive Rate')\n",
    "plt.xlabel('False Positive Rate')\n",
    "plt.show()"
   ]
  },
  {
   "cell_type": "markdown",
   "metadata": {},
   "source": [
    "## Playground"
   ]
  },
  {
   "cell_type": "code",
   "execution_count": 53,
   "metadata": {
    "collapsed": false,
    "deletable": true,
    "editable": true
   },
   "outputs": [
    {
     "data": {
      "text/plain": [
       "array([0, 0, 0, ..., 0, 0, 0])"
      ]
     },
     "execution_count": 53,
     "metadata": {},
     "output_type": "execute_result"
    }
   ],
   "source": [
    "y_train[5]\n",
    "new[5]"
   ]
  },
  {
   "cell_type": "code",
   "execution_count": 56,
   "metadata": {
    "collapsed": false,
    "deletable": true,
    "editable": true
   },
   "outputs": [
    {
     "name": "stdout",
     "output_type": "stream",
     "text": [
      "[0]\n"
     ]
    }
   ],
   "source": [
    "#Predict Output \n",
    "predicted = model.predict([new[2]])\n",
    "print(predicted)"
   ]
  },
  {
   "cell_type": "code",
   "execution_count": 87,
   "metadata": {},
   "outputs": [
    {
     "name": "stdout",
     "output_type": "stream",
     "text": [
      "6.6219878520059865\n"
     ]
    },
    {
     "name": "stdout",
     "output_type": "stream",
     "text": [
      "6.410430869989796\n"
     ]
    }
   ],
   "source": [
    "from itertools import chain\n",
    "from timeit import timeit\n",
    "\n",
    "\n",
    "def bla1():\n",
    "    c = chain(\n",
    "        add_prefix(\"word1\", lemma_feat_names), \n",
    "        add_prefix(\"word2\", lemma_feat_names), \n",
    "        add_prefix(\"word3\", lemma_feat_names), \n",
    "        add_prefix(\"word4\", lemma_feat_names),\n",
    "        add_prefix(\"word5\", lemma_feat_names),\n",
    "    )\n",
    "    return list(c)\n",
    "\n",
    "\n",
    "def bla2():\n",
    "    return list(add_prefix(\"word1\", lemma_feat_names)) + \\\n",
    "           list(add_prefix(\"word2\", lemma_feat_names)) + \\\n",
    "           list(add_prefix(\"word3\", lemma_feat_names)) + \\\n",
    "           list(add_prefix(\"word4\", lemma_feat_names)) + \\\n",
    "           list(add_prefix(\"word5\", lemma_feat_names))\n",
    "\n",
    "\n",
    "print(timeit('bla1()', globals=globals(), number=1000))\n",
    "print(timeit('bla2()', globals=globals(), number=1000))"
   ]
  }
 ],
 "metadata": {
  "anaconda-cloud": {},
  "kernelspec": {
   "display_name": "Python 3",
   "language": "python",
   "name": "python3"
  },
  "language_info": {
   "codemirror_mode": {
    "name": "ipython",
    "version": 3.0
   },
   "file_extension": ".py",
   "mimetype": "text/x-python",
   "name": "python",
   "nbconvert_exporter": "python",
   "pygments_lexer": "ipython3",
   "version": "3.6.0"
  }
 },
 "nbformat": 4,
 "nbformat_minor": 0
}