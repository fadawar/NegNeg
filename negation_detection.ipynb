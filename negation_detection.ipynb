{
 "cells": [
  {
   "cell_type": "markdown",
   "metadata": {
    "deletable": true,
    "editable": true
   },
   "source": [
    "## Loading dataset"
   ]
  },
  {
   "cell_type": "code",
   "execution_count": 3,
   "metadata": {
    "collapsed": false,
    "deletable": true,
    "editable": true
   },
   "outputs": [
    {
     "name": "stdout",
     "output_type": "stream",
     "text": [
      "CPU times: user 510 ms, sys: 139 ms, total: 649 ms\n",
      "Wall time: 885 ms\n"
     ]
    }
   ],
   "source": [
    "%%time\n",
    "import pandas as pd\n",
    "import numpy as np\n",
    "import xml.etree.ElementTree as ET\n",
    "\n",
    "NONE_REPR = '__None__'                     # representation of none word - at the beginning and end of sentence\n",
    "\n",
    "token_list = []\n",
    "lemma_list = []\n",
    "pos_list = []\n",
    "is_negation_list = []\n",
    "\n",
    "def add_NaN():\n",
    "    token_list.append(NONE_REPR)\n",
    "    token_list.append(NONE_REPR)\n",
    "    lemma_list.append(NONE_REPR)\n",
    "    lemma_list.append(NONE_REPR)\n",
    "    pos_list.append(NONE_REPR)\n",
    "    pos_list.append(NONE_REPR)\n",
    "    is_negation_list.append(0)\n",
    "    is_negation_list.append(0)\n",
    "\n",
    "\n",
    "root = ET.parse('korpus_scraper/dataset-negiacie-z-korpusu.xml').getroot()\n",
    "\n",
    "for sentence in root:\n",
    "    add_NaN()\n",
    "    \n",
    "    for token in sentence:\n",
    "        token_list.append(token.text)\n",
    "        lemma_list.append(token.attrib['lemma'])\n",
    "        pos_list.append(token.attrib['pos'])\n",
    "        is_negation_list.append(1 if token.attrib['pos'].endswith('-') else 0)\n",
    "    \n",
    "    add_NaN()\n",
    "\n",
    "df = pd.DataFrame.from_dict({\n",
    "    'token': token_list, \n",
    "    'lemma': lemma_list, \n",
    "    'POS': pos_list, \n",
    "    'is_negation': is_negation_list,\n",
    "})\n",
    "\n",
    "# Split dataset into train and test sets\n",
    "split = 0.75\n",
    "train = df[:int(split*len(df))]\n",
    "test = df[int(split*len(df)):]\n",
    "X_train = train[['token', 'lemma', 'POS']]\n",
    "X_test = test[['token', 'lemma', 'POS']]\n",
    "y_train = train.is_negation\n",
    "y_test = test.is_negation"
   ]
  },
  {
   "cell_type": "markdown",
   "metadata": {
    "deletable": true,
    "editable": true
   },
   "source": [
    "## Vectorizing"
   ]
  },
  {
   "cell_type": "code",
   "execution_count": 5,
   "metadata": {
    "collapsed": false,
    "deletable": true,
    "editable": true
   },
   "outputs": [
    {
     "data": {
      "text/plain": [
       "CountVectorizer(analyzer='word', binary=False, decode_error='strict',\n",
       "        dtype=<class 'numpy.int64'>, encoding='utf-8', input='content',\n",
       "        lowercase=True, max_df=1.0, max_features=None, min_df=1,\n",
       "        ngram_range=(1, 1), preprocessor=None, stop_words=None,\n",
       "        strip_accents=None, token_pattern='(?u)\\\\b\\\\w\\\\w+\\\\b',\n",
       "        tokenizer=None, vocabulary=None)"
      ]
     },
     "execution_count": 5,
     "metadata": {},
     "output_type": "execute_result"
    }
   ],
   "source": [
    "%%time\n",
    "\n",
    "# import and instantiate CountVectorizer (with the default parameters)\n",
    "from sklearn.feature_extraction.text import CountVectorizer\n",
    "vect_lemma = CountVectorizer()\n",
    "vect_pos = CountVectorizer()\n",
    "\n",
    "# learn training data vocabulary, then use it to create a document-term matrix\n",
    "vect_lemma.fit(X_train.lemma)\n",
    "vect_pos.fit(X_train.POS)\n",
    "\n",
    "# Prechadzam cely df a tvorim novy\n",
    "\n",
    "new = []\n",
    "\n",
    "for index, row in X_train.iterrows():\n",
    "    dtm_lemma1 = vect_lemma.transform([row['lemma']])\n",
    "    dtm_pos1 = vect_pos.transform([row['POS']])\n",
    "    all_things = np.append(dtm_lemma1.toarray(), [dtm_pos1.toarray()])\n",
    "    new.append(all_things)\n"
   ]
  },
  {
   "cell_type": "code",
   "execution_count": 46,
   "metadata": {
    "collapsed": false
   },
   "outputs": [],
   "source": [
    "%%time\n",
    "\n",
    "# transformuje list do dataframe\n",
    "column_names = vect_lemma.get_feature_names() + vect_pos.get_feature_names()\n",
    "df_new = pd.DataFrame(new, columns=column_names)"
   ]
  },
  {
   "cell_type": "code",
   "execution_count": 71,
   "metadata": {
    "collapsed": false
   },
   "outputs": [
    {
     "data": {
      "text/html": [
       "<div>\n",
       "<table border=\"1\" class=\"dataframe\">\n",
       "  <thead>\n",
       "    <tr style=\"text-align: right;\">\n",
       "      <th></th>\n",
       "      <th>slovo1_10</th>\n",
       "      <th>slovo1_1000</th>\n",
       "      <th>slovo1_103</th>\n",
       "      <th>slovo1_112</th>\n",
       "      <th>slovo1_12</th>\n",
       "      <th>slovo1_135</th>\n",
       "      <th>slovo1_1415</th>\n",
       "      <th>slovo1_15</th>\n",
       "      <th>slovo1_16</th>\n",
       "      <th>slovo1_17</th>\n",
       "      <th>...</th>\n",
       "      <th>slovo2_živel</th>\n",
       "      <th>slovo2_život</th>\n",
       "      <th>slovo2_životabudič</th>\n",
       "      <th>slovo2_životný</th>\n",
       "      <th>slovo2_živočíšny</th>\n",
       "      <th>slovo2_živý</th>\n",
       "      <th>slovo2_žiť</th>\n",
       "      <th>slovo2_žlto</th>\n",
       "      <th>slovo2_žobrať</th>\n",
       "      <th>slovo2_žrebčín</th>\n",
       "    </tr>\n",
       "  </thead>\n",
       "  <tbody>\n",
       "    <tr>\n",
       "      <th>0</th>\n",
       "      <td>0</td>\n",
       "      <td>0</td>\n",
       "      <td>0</td>\n",
       "      <td>0</td>\n",
       "      <td>0</td>\n",
       "      <td>0</td>\n",
       "      <td>0</td>\n",
       "      <td>0</td>\n",
       "      <td>0</td>\n",
       "      <td>0</td>\n",
       "      <td>...</td>\n",
       "      <td>0</td>\n",
       "      <td>0</td>\n",
       "      <td>0</td>\n",
       "      <td>0</td>\n",
       "      <td>0</td>\n",
       "      <td>0</td>\n",
       "      <td>0</td>\n",
       "      <td>0</td>\n",
       "      <td>0</td>\n",
       "      <td>0</td>\n",
       "    </tr>\n",
       "  </tbody>\n",
       "</table>\n",
       "<p>1 rows × 8500 columns</p>\n",
       "</div>"
      ],
      "text/plain": [
       "   slovo1_10  slovo1_1000  slovo1_103  slovo1_112  slovo1_12  slovo1_135  \\\n",
       "0          0            0           0           0          0           0   \n",
       "\n",
       "   slovo1_1415  slovo1_15  slovo1_16  slovo1_17       ...        slovo2_živel  \\\n",
       "0            0          0          0          0       ...                   0   \n",
       "\n",
       "   slovo2_život  slovo2_životabudič  slovo2_životný  slovo2_živočíšny  \\\n",
       "0             0                   0               0                 0   \n",
       "\n",
       "   slovo2_živý  slovo2_žiť  slovo2_žlto  slovo2_žobrať  slovo2_žrebčín  \n",
       "0            0           0            0              0               0  \n",
       "\n",
       "[1 rows x 8500 columns]"
      ]
     },
     "execution_count": 71,
     "metadata": {},
     "output_type": "execute_result"
    }
   ],
   "source": [
    "# Snaha je spojit dva riadky z dataframe\n",
    "\n",
    "def add_prefix(prefix, iterable):\n",
    "    for item in iterable:\n",
    "        yield prefix + \"_\" + item\n",
    "\n",
    "l = list(count_vect_df.iloc[0]) + list(count_vect_df.iloc[1])\n",
    "c = list(add_prefix('slovo1', vect.get_feature_names())) + list(add_prefix('slovo2', vect.get_feature_names()))\n",
    "pd.DataFrame([l], columns=c)"
   ]
  },
  {
   "cell_type": "code",
   "execution_count": 64,
   "metadata": {
    "collapsed": false
   },
   "outputs": [
    {
     "data": {
      "text/html": [
       "<div>\n",
       "<table border=\"1\" class=\"dataframe\">\n",
       "  <thead>\n",
       "    <tr style=\"text-align: right;\">\n",
       "      <th></th>\n",
       "      <th>slovo1_10</th>\n",
       "      <th>slovo1_1000</th>\n",
       "      <th>slovo1_103</th>\n",
       "      <th>slovo1_112</th>\n",
       "      <th>slovo1_12</th>\n",
       "      <th>slovo1_135</th>\n",
       "      <th>slovo1_1415</th>\n",
       "      <th>slovo1_15</th>\n",
       "      <th>slovo1_16</th>\n",
       "      <th>slovo1_17</th>\n",
       "      <th>...</th>\n",
       "      <th>slovo2_živel</th>\n",
       "      <th>slovo2_život</th>\n",
       "      <th>slovo2_životabudič</th>\n",
       "      <th>slovo2_životný</th>\n",
       "      <th>slovo2_živočíšny</th>\n",
       "      <th>slovo2_živý</th>\n",
       "      <th>slovo2_žiť</th>\n",
       "      <th>slovo2_žlto</th>\n",
       "      <th>slovo2_žobrať</th>\n",
       "      <th>slovo2_žrebčín</th>\n",
       "    </tr>\n",
       "  </thead>\n",
       "  <tbody>\n",
       "    <tr>\n",
       "      <th>0</th>\n",
       "      <td>0.0</td>\n",
       "      <td>0.0</td>\n",
       "      <td>0.0</td>\n",
       "      <td>0.0</td>\n",
       "      <td>0.0</td>\n",
       "      <td>0.0</td>\n",
       "      <td>0.0</td>\n",
       "      <td>0.0</td>\n",
       "      <td>0.0</td>\n",
       "      <td>0.0</td>\n",
       "      <td>...</td>\n",
       "      <td>NaN</td>\n",
       "      <td>NaN</td>\n",
       "      <td>NaN</td>\n",
       "      <td>NaN</td>\n",
       "      <td>NaN</td>\n",
       "      <td>NaN</td>\n",
       "      <td>NaN</td>\n",
       "      <td>NaN</td>\n",
       "      <td>NaN</td>\n",
       "      <td>NaN</td>\n",
       "    </tr>\n",
       "    <tr>\n",
       "      <th>1</th>\n",
       "      <td>NaN</td>\n",
       "      <td>NaN</td>\n",
       "      <td>NaN</td>\n",
       "      <td>NaN</td>\n",
       "      <td>NaN</td>\n",
       "      <td>NaN</td>\n",
       "      <td>NaN</td>\n",
       "      <td>NaN</td>\n",
       "      <td>NaN</td>\n",
       "      <td>NaN</td>\n",
       "      <td>...</td>\n",
       "      <td>0.0</td>\n",
       "      <td>0.0</td>\n",
       "      <td>0.0</td>\n",
       "      <td>0.0</td>\n",
       "      <td>0.0</td>\n",
       "      <td>0.0</td>\n",
       "      <td>0.0</td>\n",
       "      <td>0.0</td>\n",
       "      <td>0.0</td>\n",
       "      <td>0.0</td>\n",
       "    </tr>\n",
       "  </tbody>\n",
       "</table>\n",
       "<p>2 rows × 8500 columns</p>\n",
       "</div>"
      ],
      "text/plain": [
       "   slovo1_10  slovo1_1000  slovo1_103  slovo1_112  slovo1_12  slovo1_135  \\\n",
       "0        0.0          0.0         0.0         0.0        0.0         0.0   \n",
       "1        NaN          NaN         NaN         NaN        NaN         NaN   \n",
       "\n",
       "   slovo1_1415  slovo1_15  slovo1_16  slovo1_17       ...        slovo2_živel  \\\n",
       "0          0.0        0.0        0.0        0.0       ...                 NaN   \n",
       "1          NaN        NaN        NaN        NaN       ...                 0.0   \n",
       "\n",
       "   slovo2_život  slovo2_životabudič  slovo2_životný  slovo2_živočíšny  \\\n",
       "0           NaN                 NaN             NaN               NaN   \n",
       "1           0.0                 0.0             0.0               0.0   \n",
       "\n",
       "   slovo2_živý  slovo2_žiť  slovo2_žlto  slovo2_žobrať  slovo2_žrebčín  \n",
       "0          NaN         NaN          NaN            NaN             NaN  \n",
       "1          0.0         0.0          0.0            0.0             0.0  \n",
       "\n",
       "[2 rows x 8500 columns]"
      ]
     },
     "execution_count": 64,
     "metadata": {},
     "output_type": "execute_result"
    }
   ],
   "source": [
    "row1 = count_vect_df.iloc[[0]]\n",
    "row2 = count_vect_df.iloc[[1]]\n",
    "row1.columns = add_prefix('slovo1', row1.columns)\n",
    "row2.columns = add_prefix('slovo2', row2.columns)\n",
    "pd.concat([row1, row2], axis=1)"
   ]
  },
  {
   "cell_type": "markdown",
   "metadata": {
    "deletable": true,
    "editable": true
   },
   "source": [
    "## Training"
   ]
  },
  {
   "cell_type": "code",
   "execution_count": 51,
   "metadata": {
    "collapsed": false,
    "deletable": true,
    "editable": true
   },
   "outputs": [
    {
     "data": {
      "text/plain": [
       "MultinomialNB(alpha=1.0, class_prior=None, fit_prior=True)"
      ]
     },
     "execution_count": 51,
     "metadata": {},
     "output_type": "execute_result"
    }
   ],
   "source": [
    "#Import Library of Gaussian Naive Bayes model\n",
    "from sklearn.naive_bayes import GaussianNB, MultinomialNB\n",
    "import numpy as np\n",
    "\n",
    "#assigning predictor and target variables\n",
    "#x = np.array([[-3,7],[1,5], [1,2], [-2,0], [2,3], [-4,0], [-1,1], [1,1], [-2,2], [2,7], [-4,1], [-2,7]])\n",
    "#Y = np.array([3, 3, 3, 3, 4, 3, 3, 4, 3, 4, 4, 4])\n",
    "\n",
    "#Create a Gaussian Classifier\n",
    "model = MultinomialNB()\n",
    "\n",
    "# Train the model using the training sets \n",
    "model.fit(df_new, y_train)"
   ]
  },
  {
   "cell_type": "code",
   "execution_count": 53,
   "metadata": {
    "collapsed": false
   },
   "outputs": [
    {
     "data": {
      "text/plain": [
       "array([0, 0, 0, ..., 0, 0, 0])"
      ]
     },
     "execution_count": 53,
     "metadata": {},
     "output_type": "execute_result"
    }
   ],
   "source": [
    "y_train[5]\n",
    "new[5]"
   ]
  },
  {
   "cell_type": "code",
   "execution_count": 56,
   "metadata": {
    "collapsed": false
   },
   "outputs": [
    {
     "name": "stdout",
     "output_type": "stream",
     "text": [
      "[0]\n"
     ]
    }
   ],
   "source": [
    "#Predict Output \n",
    "predicted = model.predict([new[2]])\n",
    "print(predicted)"
   ]
  }
 ],
 "metadata": {
  "anaconda-cloud": {},
  "kernelspec": {
   "display_name": "Python 3",
   "language": "python",
   "name": "python3"
  },
  "language_info": {
   "codemirror_mode": {
    "name": "ipython",
    "version": 3
   },
   "file_extension": ".py",
   "mimetype": "text/x-python",
   "name": "python",
   "nbconvert_exporter": "python",
   "pygments_lexer": "ipython3",
   "version": "3.6.0"
  }
 },
 "nbformat": 4,
 "nbformat_minor": 0
}
