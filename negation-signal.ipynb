{
 "cells": [
  {
   "cell_type": "markdown",
   "metadata": {
    "deletable": true,
    "editable": true
   },
   "source": [
    "# Negation signal - withOUT bag of words"
   ]
  },
  {
   "cell_type": "markdown",
   "metadata": {
    "deletable": true,
    "editable": true
   },
   "source": [
    "## Definition of all the imports and constants"
   ]
  },
  {
   "cell_type": "code",
   "execution_count": 1,
   "metadata": {
    "collapsed": true,
    "deletable": true,
    "editable": true
   },
   "outputs": [],
   "source": [
    "# Define all the imports and constants\n",
    "import pickle\n",
    "\n",
    "from sklearn.model_selection import GridSearchCV\n",
    "from sklearn import metrics\n",
    "from sklearn.naive_bayes import GaussianNB, MultinomialNB, BernoulliNB\n",
    "from sklearn.svm import SVC\n",
    "from sklearn.ensemble import RandomForestClassifier\n",
    "\n",
    "from utils.dataset import preprocess_dataset, get_datasets, load_dataset, dataset_name\n",
    "from utils.signal import create_semi_dataset, create_columns_names, create_features_list, show_metrics_on_all_datasets\n",
    "from utils.common import print_score, show_roc_curve, save_model, create_vectorizer\n",
    "\n",
    "\n",
    "FUNCTIONS = {\n",
    "        'create_semi_dataset': create_semi_dataset,\n",
    "        'create_vectorizer': create_vectorizer,\n",
    "        'create_columns_names': create_columns_names,\n",
    "        'create_features_list': create_features_list,\n",
    "}\n",
    "\n",
    "SUFFIX = 'sig'"
   ]
  },
  {
   "cell_type": "markdown",
   "metadata": {
    "deletable": true,
    "editable": true
   },
   "source": [
    "## Creation of datasets & preprocessing"
   ]
  },
  {
   "cell_type": "code",
   "execution_count": 2,
   "metadata": {
    "collapsed": false,
    "deletable": true,
    "editable": true,
    "scrolled": true
   },
   "outputs": [
    {
     "name": "stderr",
     "output_type": "stream",
     "text": [
      "utils.dataset - INFO - ***** Create dataset snk *****\n"
     ]
    },
    {
     "name": "stderr",
     "output_type": "stream",
     "text": [
      "utils.dataset - INFO - [START] Creating semi dataset\n"
     ]
    },
    {
     "name": "stderr",
     "output_type": "stream",
     "text": [
      "utils.dataset - INFO - [START] Creating features list - train\n"
     ]
    },
    {
     "name": "stderr",
     "output_type": "stream",
     "text": [
      "utils.dataset - INFO - [START] Creating features list - test\n"
     ]
    },
    {
     "name": "stderr",
     "output_type": "stream",
     "text": [
      "utils.dataset - INFO - [START] Saving CSV\n"
     ]
    },
    {
     "name": "stderr",
     "output_type": "stream",
     "text": [
      "utils.dataset - INFO - [FINISH] Saving CSV\n"
     ]
    }
   ],
   "source": [
    "# Preprocess SNK dataset\n",
    "preprocess_dataset('dataset/snk/merged.xml', SUFFIX, False, FUNCTIONS)"
   ]
  },
  {
   "cell_type": "code",
   "execution_count": 4,
   "metadata": {},
   "outputs": [
    {
     "name": "stderr",
     "output_type": "stream",
     "text": [
      "utils.dataset - INFO - ***** Create dataset beletria *****\n"
     ]
    },
    {
     "name": "stderr",
     "output_type": "stream",
     "text": [
      "utils.dataset - INFO - [START] Creating semi dataset\n"
     ]
    },
    {
     "name": "stderr",
     "output_type": "stream",
     "text": [
      "utils.dataset - INFO - [START] Creating features list - train\n"
     ]
    },
    {
     "name": "stderr",
     "output_type": "stream",
     "text": [
      "utils.dataset - INFO - [START] Creating features list - test\n"
     ]
    },
    {
     "name": "stderr",
     "output_type": "stream",
     "text": [
      "utils.dataset - INFO - [START] Saving CSV\n"
     ]
    },
    {
     "name": "stderr",
     "output_type": "stream",
     "text": [
      "utils.dataset - INFO - [FINISH] Saving CSV\n"
     ]
    },
    {
     "name": "stderr",
     "output_type": "stream",
     "text": [
      "utils.dataset - INFO - ***** Create dataset recenzie *****\n"
     ]
    },
    {
     "name": "stderr",
     "output_type": "stream",
     "text": [
      "utils.dataset - INFO - [START] Creating semi dataset\n"
     ]
    },
    {
     "name": "stderr",
     "output_type": "stream",
     "text": [
      "utils.dataset - INFO - [START] Creating features list - train\n"
     ]
    },
    {
     "name": "stderr",
     "output_type": "stream",
     "text": [
      "utils.dataset - INFO - [START] Creating features list - test\n"
     ]
    },
    {
     "name": "stderr",
     "output_type": "stream",
     "text": [
      "utils.dataset - INFO - [START] Saving CSV\n"
     ]
    },
    {
     "name": "stderr",
     "output_type": "stream",
     "text": [
      "utils.dataset - INFO - [FINISH] Saving CSV\n"
     ]
    },
    {
     "name": "stderr",
     "output_type": "stream",
     "text": [
      "utils.dataset - INFO - ***** Create dataset snk *****\n"
     ]
    },
    {
     "name": "stderr",
     "output_type": "stream",
     "text": [
      "utils.dataset - INFO - [START] Creating semi dataset\n"
     ]
    },
    {
     "name": "stderr",
     "output_type": "stream",
     "text": [
      "utils.dataset - INFO - [START] Creating features list - train\n"
     ]
    },
    {
     "name": "stderr",
     "output_type": "stream",
     "text": [
      "utils.dataset - INFO - [START] Creating features list - test\n"
     ]
    },
    {
     "name": "stderr",
     "output_type": "stream",
     "text": [
      "utils.dataset - INFO - [START] Saving CSV\n"
     ]
    },
    {
     "name": "stderr",
     "output_type": "stream",
     "text": [
      "utils.dataset - INFO - [FINISH] Saving CSV\n"
     ]
    },
    {
     "name": "stderr",
     "output_type": "stream",
     "text": [
      "utils.dataset - INFO - ***** Create dataset sport *****\n"
     ]
    },
    {
     "name": "stderr",
     "output_type": "stream",
     "text": [
      "utils.dataset - INFO - [START] Creating semi dataset\n"
     ]
    },
    {
     "name": "stderr",
     "output_type": "stream",
     "text": [
      "utils.dataset - INFO - [START] Creating features list - train\n"
     ]
    },
    {
     "name": "stderr",
     "output_type": "stream",
     "text": [
      "utils.dataset - INFO - [START] Creating features list - test\n"
     ]
    },
    {
     "name": "stderr",
     "output_type": "stream",
     "text": [
      "utils.dataset - INFO - [START] Saving CSV\n"
     ]
    },
    {
     "name": "stderr",
     "output_type": "stream",
     "text": [
      "utils.dataset - INFO - [FINISH] Saving CSV\n"
     ]
    },
    {
     "name": "stderr",
     "output_type": "stream",
     "text": [
      "utils.dataset - INFO - ***** Create dataset vlastne_mario *****\n"
     ]
    },
    {
     "name": "stderr",
     "output_type": "stream",
     "text": [
      "utils.dataset - INFO - [START] Creating semi dataset\n"
     ]
    },
    {
     "name": "stderr",
     "output_type": "stream",
     "text": [
      "utils.dataset - INFO - [START] Creating features list - train\n"
     ]
    },
    {
     "name": "stderr",
     "output_type": "stream",
     "text": [
      "utils.dataset - INFO - [START] Creating features list - test\n"
     ]
    },
    {
     "name": "stderr",
     "output_type": "stream",
     "text": [
      "utils.dataset - INFO - [START] Saving CSV\n"
     ]
    },
    {
     "name": "stderr",
     "output_type": "stream",
     "text": [
      "utils.dataset - INFO - [FINISH] Saving CSV\n"
     ]
    },
    {
     "name": "stdout",
     "output_type": "stream",
     "text": [
      "CPU times: user 2min 47s, sys: 5.73 s, total: 2min 53s\nWall time: 3min 1s\n"
     ]
    }
   ],
   "source": [
    "%%time\n",
    "# Preprocess all datasets - it takes a long time\n",
    "\n",
    "for dataset in get_datasets(with_all=False):\n",
    "    preprocess_dataset(dataset, SUFFIX, False, FUNCTIONS)"
   ]
  },
  {
   "cell_type": "markdown",
   "metadata": {
    "deletable": true,
    "editable": true
   },
   "source": [
    "## Training"
   ]
  },
  {
   "cell_type": "code",
   "execution_count": 5,
   "metadata": {
    "collapsed": false,
    "deletable": true,
    "editable": true
   },
   "outputs": [
    {
     "name": "stdout",
     "output_type": "stream",
     "text": [
      "CPU times: user 436 ms, sys: 48 ms, total: 484 ms\nWall time: 552 ms\n"
     ]
    }
   ],
   "source": [
    "%%time\n",
    "\n",
    "# Load preprocessed dataset\n",
    "DATASET = 'dataset/snk/merged.csv'\n",
    "X_train, X_test, Y_train, Y_test = load_dataset(DATASET, SUFFIX, ['token', 'lemma', 'POS', 'is_negation'])"
   ]
  },
  {
   "cell_type": "code",
   "execution_count": 6,
   "metadata": {
    "collapsed": false,
    "deletable": true,
    "editable": true
   },
   "outputs": [
    {
     "name": "stdout",
     "output_type": "stream",
     "text": [
      "CPU times: user 887 ms, sys: 32.1 ms, total: 920 ms\nWall time: 970 ms\n"
     ]
    }
   ],
   "source": [
    "%%time\n",
    "\n",
    "ALGORITHM = 'RandomForest'\n",
    "\n",
    "# Train a model using the training sets \n",
    "# model = MultinomialNB()\n",
    "# model = GaussianNB()\n",
    "# model = BernoulliNB()\n",
    "# model = SVC()\n",
    "model = RandomForestClassifier(n_estimators=100, bootstrap=False, criterion='entropy')\n",
    "\n",
    "model.fit(X_train, Y_train.is_negation)"
   ]
  },
  {
   "cell_type": "markdown",
   "metadata": {
    "deletable": true,
    "editable": true
   },
   "source": [
    "## Metrics"
   ]
  },
  {
   "cell_type": "code",
   "execution_count": 7,
   "metadata": {
    "collapsed": false,
    "deletable": true,
    "editable": true
   },
   "outputs": [
    {
     "name": "stdout",
     "output_type": "stream",
     "text": [
      "Accuracy: 0.993689041881813\nPrecision: 0.9861111111111112\nRecall: 0.8765432098765432\nF1 score: 0.9281045751633987\nClassification report:\n             precision    recall  f1-score   support\n\n          0       0.99      1.00      1.00      1662\n          1       0.99      0.88      0.93        81\n\navg / total       0.99      0.99      0.99      1743\n\n"
     ]
    },
    {
     "data": {
      "image/png": "[encoded data removed]",
      "text/plain": [
       "<matplotlib.figure.Figure at 0x126d3f1d0>"
      ]
     },
     "metadata": {},
     "output_type": "display_data"
    }
   ],
   "source": [
    "y_predicted = model.predict(X_test)\n",
    "y_true = Y_test.is_negation\n",
    "\n",
    "# Print basic metrics\n",
    "print_score(y_predicted, y_true)\n",
    "\n",
    "# Show ROC curve\n",
    "show_roc_curve(y_predicted, y_true, save_name='{}-{}-{}-main.svg'.format(SUFFIX, dataset_name(DATASET), ALGORITHM))"
   ]
  },
  {
   "cell_type": "markdown",
   "metadata": {
    "collapsed": true,
    "deletable": true,
    "editable": true
   },
   "source": [
    "## Metric on all datasets"
   ]
  },
  {
   "cell_type": "code",
   "execution_count": 10,
   "metadata": {
    "collapsed": false,
    "deletable": true,
    "editable": true
   },
   "outputs": [
    {
     "name": "stdout",
     "output_type": "stream",
     "text": [
      "============================================\nbeletria\n============================================\n"
     ]
    },
    {
     "name": "stdout",
     "output_type": "stream",
     "text": [
      "Accuracy: 0.9958572119036111\nPrecision: 0.8741007194244604\nRecall: 0.9067164179104478\nF1 score: 0.8901098901098901\nClassification report:\n             precision    recall  f1-score   support\n\n          0       1.00      1.00      1.00     14215\n          1       0.87      0.91      0.89       268\n\navg / total       1.00      1.00      1.00     14483\n\n"
     ]
    },
    {
     "data": {
      "image/png": "[encoded data removed]",
      "text/plain": [
       "<matplotlib.figure.Figure at 0x126810da0>"
      ]
     },
     "metadata": {},
     "output_type": "display_data"
    },
    {
     "name": "stdout",
     "output_type": "stream",
     "text": [
      "============================================\nrecenzie\n============================================\n"
     ]
    },
    {
     "name": "stdout",
     "output_type": "stream",
     "text": [
      "Accuracy: 0.9957818773186969\nPrecision: 0.9318181818181818\nRecall: 0.6978723404255319\nF1 score: 0.7980535279805353\nClassification report:\n             precision    recall  f1-score   support\n\n          0       1.00      1.00      1.00     19442\n          1       0.93      0.70      0.80       235\n\navg / total       1.00      1.00      1.00     19677\n\n"
     ]
    },
    {
     "data": {
      "image/png": "[encoded data removed]",
      "text/plain": [
       "<matplotlib.figure.Figure at 0x126810a58>"
      ]
     },
     "metadata": {},
     "output_type": "display_data"
    },
    {
     "name": "stdout",
     "output_type": "stream",
     "text": [
      "============================================\nsnk\n============================================\n"
     ]
    },
    {
     "name": "stdout",
     "output_type": "stream",
     "text": [
      "Accuracy: 0.9984236170822586\nPrecision: 0.996742671009772\nRecall: 0.9683544303797469\nF1 score: 0.9823434991974318\nClassification report:\n             precision    recall  f1-score   support\n\n          0       1.00      1.00      1.00      6662\n          1       1.00      0.97      0.98       316\n\navg / total       1.00      1.00      1.00      6978\n\n"
     ]
    },
    {
     "data": {
      "image/png": "[encoded data removed]",
      "text/plain": [
       "<matplotlib.figure.Figure at 0x1279d4f98>"
      ]
     },
     "metadata": {},
     "output_type": "display_data"
    },
    {
     "name": "stdout",
     "output_type": "stream",
     "text": [
      "============================================\nsport\n============================================\n"
     ]
    },
    {
     "name": "stdout",
     "output_type": "stream",
     "text": [
      "Accuracy: 0.9966917685979193\nPrecision: 0.9394904458598726\nRecall: 0.8380681818181818\nF1 score: 0.8858858858858858\nClassification report:\n             precision    recall  f1-score   support\n\n          0       1.00      1.00      1.00     22621\n          1       0.94      0.84      0.89       352\n\navg / total       1.00      1.00      1.00     22973\n\n"
     ]
    },
    {
     "data": {
      "image/png": "[encoded data removed]",
      "text/plain": [
       "<matplotlib.figure.Figure at 0x126d2cef0>"
      ]
     },
     "metadata": {},
     "output_type": "display_data"
    },
    {
     "name": "stdout",
     "output_type": "stream",
     "text": [
      "============================================\nvlastne_mario\n============================================\nAccuracy: 0.9589490968801314\nPrecision: 0.9545454545454546\nRecall: 0.6461538461538462\nF1 score: 0.7706422018348624\nClassification report:\n             precision    recall  f1-score   support\n\n          0       0.96      1.00      0.98       544\n          1       0.95      0.65      0.77        65\n\navg / total       0.96      0.96      0.96       609\n\n"
     ]
    },
    {
     "data": {
      "image/png": "[encoded data removed]",
      "text/plain": [
       "<matplotlib.figure.Figure at 0x1279315f8>"
      ]
     },
     "metadata": {},
     "output_type": "display_data"
    }
   ],
   "source": [
    "# Load model\n",
    "with open('saved_models/model-{}-{}.pkl'.format(ALGORITHM, SUFFIX), 'rb') as f:\n",
    "    model = pickle.load(f)\n",
    "\n",
    "show_metrics_on_all_datasets(model, SUFFIX, ALGORITHM, with_all=False)"
   ]
  },
  {
   "cell_type": "markdown",
   "metadata": {
    "deletable": true,
    "editable": true
   },
   "source": [
    "## Save model"
   ]
  },
  {
   "cell_type": "code",
   "execution_count": 9,
   "metadata": {
    "collapsed": true,
    "deletable": true,
    "editable": true
   },
   "outputs": [],
   "source": [
    "save_model(model, 'model-{}-{}.pkl'.format(ALGORITHM, SUFFIX))"
   ]
  },
  {
   "cell_type": "markdown",
   "metadata": {
    "deletable": true,
    "editable": true
   },
   "source": [
    "## Grid Search"
   ]
  },
  {
   "cell_type": "code",
   "execution_count": 2,
   "metadata": {
    "collapsed": false,
    "deletable": true,
    "editable": true
   },
   "outputs": [
    {
     "name": "stdout",
     "output_type": "stream",
     "text": [
      "GridSearchCV(cv=None, error_score='raise',\n",
      "       estimator=RandomForestClassifier(bootstrap=True, class_weight=None, criterion='gini',\n",
      "            max_depth=None, max_features='auto', max_leaf_nodes=None,\n",
      "            min_impurity_split=1e-07, min_samples_leaf=1,\n",
      "            min_samples_split=2, min_weight_fraction_leaf=0.0,\n",
      "            n_estimators=10, n_jobs=1, oob_score=False, random_state=None,\n",
      "            verbose=0, warm_start=False),\n",
      "       fit_params={}, iid=True, n_jobs=1,\n",
      "       param_grid={'n_estimators': [60, 100, 200], 'bootstrap': [True, False], 'criterion': ['gini', 'entropy']},\n",
      "       pre_dispatch='2*n_jobs', refit=True, return_train_score=True,\n",
      "       scoring=make_scorer(f1_score), verbose=0)\n",
      "0.891358024691\n",
      "{'n_estimators': 100, 'bootstrap': False, 'criterion': 'entropy'}\n"
     ]
    }
   ],
   "source": [
    "# Grid Search for Algorithm Tuning\n",
    "\n",
    "param_grid = {\"n_estimators\": [60, 100, 200],\n",
    "              \"bootstrap\": [True, False],\n",
    "              \"criterion\": [\"gini\", \"entropy\"]}\n",
    "\n",
    "# param_grid = {\"max_depth\": [3, None],\n",
    "#               \"max_features\": [1, 3, 10],\n",
    "#               \"min_samples_split\": [2, 3, 5, 10],\n",
    "#               \"min_samples_leaf\": [1, 3, 10],\n",
    "#               \"bootstrap\": [True, False],\n",
    "#               \"criterion\": [\"gini\", \"entropy\"]}\n",
    "\n",
    "# create and fit a ridge regression model, testing each alpha\n",
    "model = RandomForestClassifier()\n",
    "grid = GridSearchCV(estimator=model, param_grid=param_grid, scoring=metrics.make_scorer(metrics.f1_score))\n",
    "grid.fit(X_train, Y_train.is_negation)\n",
    "\n",
    "# summarize the results of the grid search\n",
    "print(grid)\n",
    "print(grid.best_score_)\n",
    "print(grid.best_params_)"
   ]
  },
  {
   "cell_type": "code",
   "execution_count": null,
   "metadata": {
    "collapsed": true,
    "deletable": true,
    "editable": true
   },
   "outputs": [],
   "source": [
    ""
   ]
  }
 ],
 "metadata": {
  "anaconda-cloud": {},
  "kernelspec": {
   "display_name": "Python 3",
   "language": "python",
   "name": "python3"
  },
  "language_info": {
   "codemirror_mode": {
    "name": "ipython",
    "version": 3.0
   },
   "file_extension": ".py",
   "mimetype": "text/x-python",
   "name": "python",
   "nbconvert_exporter": "python",
   "pygments_lexer": "ipython3",
   "version": "3.5.2"
  }
 },
 "nbformat": 4,
 "nbformat_minor": 0
}